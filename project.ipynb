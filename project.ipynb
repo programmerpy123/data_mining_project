{
 "cells": [
  {
   "cell_type": "code",
   "execution_count": 46,
   "id": "4bb154b1",
   "metadata": {},
   "outputs": [],
   "source": [
    "import pandas as pd\n",
    "import numpy as np\n",
    "from sklearn.preprocessing import MinMaxScaler\n",
    "from sklearn.cluster import DBSCAN\n",
    "import matplotlib.pyplot as plt\n",
    "from sklearn.metrics import adjusted_rand_score, adjusted_mutual_info_score\n",
    "from sklearn.metrics import pairwise_distances\n",
    "from sklearn.metrics import davies_bouldin_score"
   ]
  },
  {
   "cell_type": "code",
   "execution_count": 47,
   "id": "69b9b79c",
   "metadata": {},
   "outputs": [],
   "source": [
    "df = pd.read_csv(\"datasetnew.csv\")"
   ]
  },
  {
   "cell_type": "code",
   "execution_count": 48,
   "id": "e8f0e983",
   "metadata": {},
   "outputs": [
    {
     "data": {
      "text/plain": "      ID                            Email Address  first name  last name  \\\n0    1.0         Isabel_York156586436@c2nyu.works      Isabel       York   \n1    2.0        Sienna_Duvall908637957@bcfhs.meet      Sienna     Duvall   \n2    3.0       Julian_Talbot905290229@xtwt3.store      Julian     Talbot   \n3    4.0         Nicholas_Lane533246088@ds59r.app    Nicholas       Lane   \n4    5.0      Daphne_Faulkner129131798@nanoff.pro      Daphne   Faulkner   \n5    6.0         Brad_Uttridge1947916448@uagvw.us        Brad   Uttridge   \n6    7.0         Carter_Dillon45688829@qu9ml.info      Carter     Dillon   \n7    8.0      Carolyn_Brennan849452089@cdpfn.mobi     Carolyn    Brennan   \n8    9.0   Johnathan_Stone 1432444600@crzq7.space   Johnathan     Stone    \n9   10.0         Domenic_Dale634444699@ckzyi.site     Domenic       Dale   \n10  11.0         Emely_Rixon116681363@chkzl.autos       Emely      Rixon   \n11  12.0           Rick_Dyson1321334998@bcfhs.com        Rick      Dyson   \n12  13.0          Lauren_John1023873840@mpibr.app      Lauren       John   \n13  14.0         Brad_Reynolds390936848@karnv.edu        Brad   Reynolds   \n14  15.0          Rosalyn_Gray926727976@nmz0p.biz     Rosalyn       Gray   \n15  16.0       Melania_Hooper1787809246@chkzl.biz     Melania     Hooper   \n16  17.0         Ronald_White770285790@yafr7.page      Ronald      White   \n17  18.0         Brad_Barrett1239071724@zynuu.pro        Brad    Barrett   \n18  19.0       Brad_White1032936938@cke3u.website        Brad      White   \n19  20.0       Gabriel_Zaoui706183432@lyvnc.audio     Gabriel      Zaoui   \n20  21.0    Aleksandra_Powell376947139@bqkv0.info  Aleksandra     Powell   \n21  22.0    Alexander_Ingram1170560759@bqkv0.tech   Alexander     Ingram   \n22  23.0       Penelope_Fowler802718282@gnjps.edu    Penelope     Fowler   \n23  24.0   Jamie_Cavanagh647865819@avn7d.catering       Jamie   Cavanagh   \n24  25.0           Liv_Ellison318168812@mpibr.net         Liv    Ellison   \n25  26.0         Hope_Rees2077039012@p5emz.online        Hope       Rees   \n26  27.0      Margaret_Dubois579065785@lhp4j.name    Margaret     Dubois   \n27  28.0        Joseph_Trent1225907418@c2nyu.info      Joseph      Trent   \n28  29.0            Doug_Plant125380807@ckzyi.edu        Doug      Plant   \n29  30.0         Alba_Olivier803089643@cdpfn.zone        Alba    Olivier   \n30  31.0       Bart_Uttridge1589789549@ptr6k.info        Bart   Uttridge   \n31  32.0      Sarah_Kelly818608550@1kmd3.services       Sarah      Kelly   \n32  33.0        Natalie_Pratt234057847@1wa8o.club     Natalie      Pratt   \n33  34.0      Kirsten_Notman1958739655@qu9ml.host     Kirsten     Notman   \n34  35.0        Elena_Brock1206812149@1wa8o.audio       Elena      Brock   \n35  36.0     Shay_Flanders980746390@cdpfn.website        Shay   Flanders   \n36  37.0             John_Lyon1983792255@ptr6k.ca        John       Lyon   \n37  38.0          Doug_Gaynor1500770080@yahoo.edu        Doug     Gaynor   \n38  39.0      Ronald_Johnson185065433@ag5wi.space      Ronald    Johnson   \n39  40.0          Eryn_Brown1205077117@cke3u.host        Eryn      Brown   \n40  41.0        Harvey_Cann1000767221@iscmr.works      Harvey       Cann   \n41  42.0     Tony_Stewart1088542019@qu9ml.auction        Tony    Stewart   \n42  43.0    Jayden_Russel1126694596@yafr7.digital      Jayden     Russel   \n43  44.0         Julian_Kerr1821681796@xtwt3.tech      Julian       Kerr   \n44  45.0    Sadie_Crawford1165316675@evyvh.center       Sadie   Crawford   \n45  46.0      Susan_Gregory1118714842@ohqqh.store       Susan    Gregory   \n46  47.0       Lana_Allington193206210@zynuu.page        Lana  Allington   \n47  48.0     Fiona_Tyrrell643007147@gnjps.website       Fiona    Tyrrell   \n48  49.0  Louise_Murphy1972734158@nanoff.business      Louise     Murphy   \n49  50.0        Doug_Summers2017226163@qu9ml.name        Doug    Summers   \n\n      password   father_name     status  student_number  Gender    birthday  \\\n0   JtjFdAk5HW      Fariborz  obligated    7.785214e+09  Female    6/2/1380   \n1   MpI1bauhmP       Ebrahim       free    1.617643e+09  Female   1/20/1383   \n2   VXp4FBalvM    Abdolhamid  obligated    7.512851e+09    Male   9/19/1377   \n3   SwJBtimyr9    Ehsanollah       free    8.543001e+09    Male   9/26/1377   \n4   X8sqPsoHDs          Hadi       free    3.301624e+09  Female  12/29/1379   \n5   7EuehdyXDo      Homayoun  obligated    3.117774e+09    Male   12/2/1377   \n6   u75MGwTq0Z        Farhad       free    9.980612e+09    Male    5/8/1380   \n7   dsrzJo0jpa        Bahman       free    5.172836e+09  Female    8/8/1383   \n8   KOfGbQa6jQ       Khosrow       free    4.115806e+09    Male    5/2/1384   \n9   J6lUHu4iIG        Parviz  obligated    3.953521e+09    Male   6/25/1380   \n10  M5VSF2btjY        Zohreh       free    3.127789e+09  Female   4/14/1378   \n11  9n0J4F0MSo         Armin       free    8.084003e+09    Male   5/24/1379   \n12  s0pdEGi12R         Yaser  obligated    5.796464e+08  Female   6/18/1382   \n13  5YQjq76YIk       Behrouz  obligated    7.355194e+09    Male   2/11/1381   \n14  pdF2IeVWqD    Abdolhamid       free    2.102306e+09  Female   9/18/1383   \n15  LUiBzgmiHG         Arman       free    2.791500e+09  Female    1/1/1381   \n16  cYsfvc5UpC        Sohrab  obligated    9.255860e+09    Male   7/23/1383   \n17  AJYAqieHQN    Ehsanollah       free    7.910341e+09    Male    2/3/1383   \n18  YRc2XYLDXJ         Arman       free    6.810767e+09    Male   3/17/1380   \n19  FRRV6trwBh       Ghafour       free    6.265889e+09    Male  12/13/1378   \n20  gVPpIayUu9          Aziz  obligated    2.456905e+09  Female  12/16/1383   \n21  LtWy8Tke88         Navid       free    9.703698e+08    Male   10/3/1382   \n22  qPm4n8Q8qF  Abdolhossein       free    8.949567e+09  Female    7/8/1380   \n23  w9YlMmP8pT      Abdollah       free    7.037114e+09  Female   9/19/1383   \n24  fxJbhOO4GX       Mahmoud       free    6.224447e+08  Female    6/6/1384   \n25  HMha0HNVgn      Faramarz       free    6.602639e+09  Female  11/19/1379   \n26  9Ly3o1xbir        Sobhan  obligated    7.836973e+09  Female   5/14/1382   \n27  DZajy9ThxV         Mehdi  obligated    6.569089e+09    Male   1/28/1380   \n28  pus0gWKEpR        Yousef  obligated    8.030102e+09    Male    8/6/1381   \n29  Z0IrKbWWiZ         Yahya  obligated    6.973119e+09  Female  10/16/1379   \n30  FjnZhIIpQs          Reza  obligated    9.768696e+09    Male    9/6/1378   \n31  qnlZg5dr6f         Majid       free    4.186648e+09  Female  11/26/1381   \n32  EO2t2HzqDj       Khosrow  obligated    7.885374e+09  Female  11/25/1382   \n33  XM1fLAvowr        Behzad       free    8.367981e+09  Female   6/19/1381   \n34  arw4O7BW3r         Armin       free    1.723574e+09  Female   6/24/1383   \n35  pBSKrd3Srg          Iraj  obligated    9.915466e+08  Female   3/24/1384   \n36  cwx7KZtGBI         Hamid  obligated    5.751599e+09    Male   7/28/1382   \n37  nfyZukh0bL      Mohammad       free    5.635414e+08    Male    7/3/1380   \n38  6E29HHwPGb         Arman       free    8.341084e+09    Male  12/17/1383   \n39  b1UKokwlMX           Ali       free    2.504157e+09  Female  11/28/1378   \n40  VKGXOVzGLS          Omid  obligated    5.960333e+09    Male   6/14/1384   \n41  Gon36yx7qd        Behnam  obligated    9.527396e+09    Male   3/10/1379   \n42  xDvDqJNyVv        Davoud  obligated    7.038690e+09    Male   9/17/1382   \n43  Pvdl1QHWK1          Hadi  obligated    8.953713e+08    Male   9/14/1379   \n44  zk8vkZddaO      Abdollah       free    7.705611e+09  Female   12/3/1383   \n45  6K7vqKHpgN       Ghafour  obligated    2.279994e+09  Female   5/30/1384   \n46  dOWGLUmR35        Afshin       free    7.367354e+09  Female  11/17/1378   \n47  wf2YvwxduI          Iraj  obligated    1.227418e+09  Female   8/12/1381   \n48  aEGMELN2Cv      Faramarz       free    2.453662e+09  Female   2/22/1380   \n49  8q1qp6hyde      Fariborz       free    2.870767e+09    Male  10/19/1382   \n\n    passed_course_unit  grade_point_average  enterning_year         Field  \\\n0                 40.0                18.40          1398.0  architecture   \n1                 17.0                18.04          1399.0    electrical   \n2                136.0                12.69          1400.0      mechanic   \n3                 90.0                15.35          1400.0    electrical   \n4                 37.0                13.13          1399.0  architecture   \n5                 78.0                14.93          1398.0  architecture   \n6                 50.0                17.44          1397.0       graphic   \n7                 30.0                14.91          1398.0  architecture   \n8                 16.0                17.57          1398.0      computer   \n9                 69.0                12.28          1397.0       graphic   \n10               109.0                13.58          1400.0  architecture   \n11               121.0                15.38          1399.0       graphic   \n12                87.0                16.36          1401.0         civil   \n13                39.0                15.32          1397.0      computer   \n14                 9.0                16.18          1397.0      mechanic   \n15                20.0                15.60          1397.0      mechanic   \n16                22.0                13.69          1398.0      mechanic   \n17                36.0                18.24          1400.0      mechanic   \n18                80.0                18.16          1400.0      computer   \n19                72.0                15.05          1400.0      computer   \n20                24.0                12.27          1401.0      computer   \n21                74.0                18.92          1401.0      computer   \n22                10.0                13.54          1400.0       graphic   \n23               109.0                17.57          1398.0      mechanic   \n24               127.0                15.66          1398.0       graphic   \n25               117.0                17.09          1401.0      computer   \n26                92.0                16.33          1397.0      mechanic   \n27               115.0                14.63          1401.0      mechanic   \n28               122.0                12.46          1399.0         civil   \n29                71.0                17.14          1401.0         civil   \n30                87.0                18.60          1400.0    electrical   \n31                71.0                17.28          1398.0      computer   \n32                20.0                19.30          1398.0       graphic   \n33               108.0                14.78          1400.0  architecture   \n34                77.0                19.01          1400.0         civil   \n35               106.0                14.94          1399.0      computer   \n36                92.0                19.51          1401.0       graphic   \n37                18.0                19.90          1398.0  architecture   \n38                64.0                19.08          1401.0      mechanic   \n39                96.0                16.38          1401.0      computer   \n40                95.0                18.43          1400.0    electrical   \n41                83.0                15.43          1397.0    electrical   \n42                71.0                19.20          1398.0      computer   \n43                86.0                13.52          1398.0    electrical   \n44                39.0                12.60          1401.0    electrical   \n45                 4.0                12.11          1401.0       graphic   \n46                53.0                19.39          1399.0      computer   \n47                22.0                14.63          1397.0       graphic   \n48               133.0                19.19          1401.0    electrical   \n49               136.0                12.43          1397.0    electrical   \n\n                     province  national_code       qutoa  \n0                   khozestan   1.114976e+09  mantaghe 1  \n1                     esfahan   5.295921e+09  mantaghe 3  \n2   chohar_mahal_va_bakhtiary   3.865381e+09  mantaghe 3  \n3                     ardabil   1.005230e+09  25 percent  \n4                     boshehr   7.081041e+09  25 percent  \n5                  kermanshah   4.145672e+09  25 percent  \n6                  kermanshah   2.467019e+09  mantaghe 3  \n7             khorasan_jonobi   2.627950e+09  mantaghe 2  \n8                      tehran   7.720887e+09   5 percent  \n9                     boshehr   4.760780e+09  mantaghe 3  \n10                    esfahan   4.208734e+08  mantaghe 3  \n11                 mazandaran   1.003031e+09   5 percent  \n12                 mazandaran   1.350600e+09  25 percent  \n13                     alborz   8.493154e+09  mantaghe 1  \n14                      gilan   4.403743e+09  mantaghe 3  \n15                     zanjan   6.659027e+09  mantaghe 1  \n16                     alborz   3.380215e+09  mantaghe 3  \n17                     kerman   7.536627e+08  mantaghe 3  \n18                     kerman   2.274933e+09  mantaghe 3  \n19          azarbaijan_gharbi   3.100556e+09  25 percent  \n20                  hormozgan   5.322520e+09  mantaghe 3  \n21                       fars   8.896120e+09   5 percent  \n22           khorasan_shoamli   6.770887e+09  mantaghe 3  \n23                 mazandaran   2.347352e+09  mantaghe 2  \n24                  hormozgan   7.196531e+09  25 percent  \n25            khorasan_razavi   2.878338e+09  mantaghe 2  \n26                    boshehr   9.746933e+09  25 percent  \n27                    esfahan   4.677102e+07  mantaghe 3  \n28                     zanjan   6.214487e+09  25 percent  \n29           khorasan_shoamli   7.032348e+09  mantaghe 1  \n30                       fars   5.682814e+09  mantaghe 1  \n31                  khozestan   6.791939e+09  mantaghe 1  \n32                      gilan   9.091145e+09  25 percent  \n33                 mazandaran   1.663571e+09  mantaghe 1  \n34           khorasan_shoamli   5.299188e+09  25 percent  \n35          azarbaijan_gharbi   7.688550e+08  mantaghe 3  \n36                       fars   1.338111e+09   5 percent  \n37                    markazi   9.047488e+09  mantaghe 3  \n38                       ialm   4.305970e+09  25 percent  \n39          azarbaijan_gharbi   5.898741e+08   5 percent  \n40          azarbaijan_gharbi   6.826272e+09  mantaghe 3  \n41                  hormozgan   4.602321e+09  25 percent  \n42                       yazd   2.914592e+09  mantaghe 2  \n43                    boshehr   2.928136e+09   5 percent  \n44            khorasan_jonobi   2.077600e+09  mantaghe 1  \n45            khorasan_razavi   5.656848e+09  25 percent  \n46                      gilan   2.504724e+09  25 percent  \n47                    boshehr   8.345547e+09  mantaghe 1  \n48                       ghom   1.046264e+09  mantaghe 2  \n49                       ialm   8.777604e+09  25 percent  ",
      "text/html": "<div>\n<style scoped>\n    .dataframe tbody tr th:only-of-type {\n        vertical-align: middle;\n    }\n\n    .dataframe tbody tr th {\n        vertical-align: top;\n    }\n\n    .dataframe thead th {\n        text-align: right;\n    }\n</style>\n<table border=\"1\" class=\"dataframe\">\n  <thead>\n    <tr style=\"text-align: right;\">\n      <th></th>\n      <th>ID</th>\n      <th>Email Address</th>\n      <th>first name</th>\n      <th>last name</th>\n      <th>password</th>\n      <th>father_name</th>\n      <th>status</th>\n      <th>student_number</th>\n      <th>Gender</th>\n      <th>birthday</th>\n      <th>passed_course_unit</th>\n      <th>grade_point_average</th>\n      <th>enterning_year</th>\n      <th>Field</th>\n      <th>province</th>\n      <th>national_code</th>\n      <th>qutoa</th>\n    </tr>\n  </thead>\n  <tbody>\n    <tr>\n      <th>0</th>\n      <td>1.0</td>\n      <td>Isabel_York156586436@c2nyu.works</td>\n      <td>Isabel</td>\n      <td>York</td>\n      <td>JtjFdAk5HW</td>\n      <td>Fariborz</td>\n      <td>obligated</td>\n      <td>7.785214e+09</td>\n      <td>Female</td>\n      <td>6/2/1380</td>\n      <td>40.0</td>\n      <td>18.40</td>\n      <td>1398.0</td>\n      <td>architecture</td>\n      <td>khozestan</td>\n      <td>1.114976e+09</td>\n      <td>mantaghe 1</td>\n    </tr>\n    <tr>\n      <th>1</th>\n      <td>2.0</td>\n      <td>Sienna_Duvall908637957@bcfhs.meet</td>\n      <td>Sienna</td>\n      <td>Duvall</td>\n      <td>MpI1bauhmP</td>\n      <td>Ebrahim</td>\n      <td>free</td>\n      <td>1.617643e+09</td>\n      <td>Female</td>\n      <td>1/20/1383</td>\n      <td>17.0</td>\n      <td>18.04</td>\n      <td>1399.0</td>\n      <td>electrical</td>\n      <td>esfahan</td>\n      <td>5.295921e+09</td>\n      <td>mantaghe 3</td>\n    </tr>\n    <tr>\n      <th>2</th>\n      <td>3.0</td>\n      <td>Julian_Talbot905290229@xtwt3.store</td>\n      <td>Julian</td>\n      <td>Talbot</td>\n      <td>VXp4FBalvM</td>\n      <td>Abdolhamid</td>\n      <td>obligated</td>\n      <td>7.512851e+09</td>\n      <td>Male</td>\n      <td>9/19/1377</td>\n      <td>136.0</td>\n      <td>12.69</td>\n      <td>1400.0</td>\n      <td>mechanic</td>\n      <td>chohar_mahal_va_bakhtiary</td>\n      <td>3.865381e+09</td>\n      <td>mantaghe 3</td>\n    </tr>\n    <tr>\n      <th>3</th>\n      <td>4.0</td>\n      <td>Nicholas_Lane533246088@ds59r.app</td>\n      <td>Nicholas</td>\n      <td>Lane</td>\n      <td>SwJBtimyr9</td>\n      <td>Ehsanollah</td>\n      <td>free</td>\n      <td>8.543001e+09</td>\n      <td>Male</td>\n      <td>9/26/1377</td>\n      <td>90.0</td>\n      <td>15.35</td>\n      <td>1400.0</td>\n      <td>electrical</td>\n      <td>ardabil</td>\n      <td>1.005230e+09</td>\n      <td>25 percent</td>\n    </tr>\n    <tr>\n      <th>4</th>\n      <td>5.0</td>\n      <td>Daphne_Faulkner129131798@nanoff.pro</td>\n      <td>Daphne</td>\n      <td>Faulkner</td>\n      <td>X8sqPsoHDs</td>\n      <td>Hadi</td>\n      <td>free</td>\n      <td>3.301624e+09</td>\n      <td>Female</td>\n      <td>12/29/1379</td>\n      <td>37.0</td>\n      <td>13.13</td>\n      <td>1399.0</td>\n      <td>architecture</td>\n      <td>boshehr</td>\n      <td>7.081041e+09</td>\n      <td>25 percent</td>\n    </tr>\n    <tr>\n      <th>5</th>\n      <td>6.0</td>\n      <td>Brad_Uttridge1947916448@uagvw.us</td>\n      <td>Brad</td>\n      <td>Uttridge</td>\n      <td>7EuehdyXDo</td>\n      <td>Homayoun</td>\n      <td>obligated</td>\n      <td>3.117774e+09</td>\n      <td>Male</td>\n      <td>12/2/1377</td>\n      <td>78.0</td>\n      <td>14.93</td>\n      <td>1398.0</td>\n      <td>architecture</td>\n      <td>kermanshah</td>\n      <td>4.145672e+09</td>\n      <td>25 percent</td>\n    </tr>\n    <tr>\n      <th>6</th>\n      <td>7.0</td>\n      <td>Carter_Dillon45688829@qu9ml.info</td>\n      <td>Carter</td>\n      <td>Dillon</td>\n      <td>u75MGwTq0Z</td>\n      <td>Farhad</td>\n      <td>free</td>\n      <td>9.980612e+09</td>\n      <td>Male</td>\n      <td>5/8/1380</td>\n      <td>50.0</td>\n      <td>17.44</td>\n      <td>1397.0</td>\n      <td>graphic</td>\n      <td>kermanshah</td>\n      <td>2.467019e+09</td>\n      <td>mantaghe 3</td>\n    </tr>\n    <tr>\n      <th>7</th>\n      <td>8.0</td>\n      <td>Carolyn_Brennan849452089@cdpfn.mobi</td>\n      <td>Carolyn</td>\n      <td>Brennan</td>\n      <td>dsrzJo0jpa</td>\n      <td>Bahman</td>\n      <td>free</td>\n      <td>5.172836e+09</td>\n      <td>Female</td>\n      <td>8/8/1383</td>\n      <td>30.0</td>\n      <td>14.91</td>\n      <td>1398.0</td>\n      <td>architecture</td>\n      <td>khorasan_jonobi</td>\n      <td>2.627950e+09</td>\n      <td>mantaghe 2</td>\n    </tr>\n    <tr>\n      <th>8</th>\n      <td>9.0</td>\n      <td>Johnathan_Stone 1432444600@crzq7.space</td>\n      <td>Johnathan</td>\n      <td>Stone</td>\n      <td>KOfGbQa6jQ</td>\n      <td>Khosrow</td>\n      <td>free</td>\n      <td>4.115806e+09</td>\n      <td>Male</td>\n      <td>5/2/1384</td>\n      <td>16.0</td>\n      <td>17.57</td>\n      <td>1398.0</td>\n      <td>computer</td>\n      <td>tehran</td>\n      <td>7.720887e+09</td>\n      <td>5 percent</td>\n    </tr>\n    <tr>\n      <th>9</th>\n      <td>10.0</td>\n      <td>Domenic_Dale634444699@ckzyi.site</td>\n      <td>Domenic</td>\n      <td>Dale</td>\n      <td>J6lUHu4iIG</td>\n      <td>Parviz</td>\n      <td>obligated</td>\n      <td>3.953521e+09</td>\n      <td>Male</td>\n      <td>6/25/1380</td>\n      <td>69.0</td>\n      <td>12.28</td>\n      <td>1397.0</td>\n      <td>graphic</td>\n      <td>boshehr</td>\n      <td>4.760780e+09</td>\n      <td>mantaghe 3</td>\n    </tr>\n    <tr>\n      <th>10</th>\n      <td>11.0</td>\n      <td>Emely_Rixon116681363@chkzl.autos</td>\n      <td>Emely</td>\n      <td>Rixon</td>\n      <td>M5VSF2btjY</td>\n      <td>Zohreh</td>\n      <td>free</td>\n      <td>3.127789e+09</td>\n      <td>Female</td>\n      <td>4/14/1378</td>\n      <td>109.0</td>\n      <td>13.58</td>\n      <td>1400.0</td>\n      <td>architecture</td>\n      <td>esfahan</td>\n      <td>4.208734e+08</td>\n      <td>mantaghe 3</td>\n    </tr>\n    <tr>\n      <th>11</th>\n      <td>12.0</td>\n      <td>Rick_Dyson1321334998@bcfhs.com</td>\n      <td>Rick</td>\n      <td>Dyson</td>\n      <td>9n0J4F0MSo</td>\n      <td>Armin</td>\n      <td>free</td>\n      <td>8.084003e+09</td>\n      <td>Male</td>\n      <td>5/24/1379</td>\n      <td>121.0</td>\n      <td>15.38</td>\n      <td>1399.0</td>\n      <td>graphic</td>\n      <td>mazandaran</td>\n      <td>1.003031e+09</td>\n      <td>5 percent</td>\n    </tr>\n    <tr>\n      <th>12</th>\n      <td>13.0</td>\n      <td>Lauren_John1023873840@mpibr.app</td>\n      <td>Lauren</td>\n      <td>John</td>\n      <td>s0pdEGi12R</td>\n      <td>Yaser</td>\n      <td>obligated</td>\n      <td>5.796464e+08</td>\n      <td>Female</td>\n      <td>6/18/1382</td>\n      <td>87.0</td>\n      <td>16.36</td>\n      <td>1401.0</td>\n      <td>civil</td>\n      <td>mazandaran</td>\n      <td>1.350600e+09</td>\n      <td>25 percent</td>\n    </tr>\n    <tr>\n      <th>13</th>\n      <td>14.0</td>\n      <td>Brad_Reynolds390936848@karnv.edu</td>\n      <td>Brad</td>\n      <td>Reynolds</td>\n      <td>5YQjq76YIk</td>\n      <td>Behrouz</td>\n      <td>obligated</td>\n      <td>7.355194e+09</td>\n      <td>Male</td>\n      <td>2/11/1381</td>\n      <td>39.0</td>\n      <td>15.32</td>\n      <td>1397.0</td>\n      <td>computer</td>\n      <td>alborz</td>\n      <td>8.493154e+09</td>\n      <td>mantaghe 1</td>\n    </tr>\n    <tr>\n      <th>14</th>\n      <td>15.0</td>\n      <td>Rosalyn_Gray926727976@nmz0p.biz</td>\n      <td>Rosalyn</td>\n      <td>Gray</td>\n      <td>pdF2IeVWqD</td>\n      <td>Abdolhamid</td>\n      <td>free</td>\n      <td>2.102306e+09</td>\n      <td>Female</td>\n      <td>9/18/1383</td>\n      <td>9.0</td>\n      <td>16.18</td>\n      <td>1397.0</td>\n      <td>mechanic</td>\n      <td>gilan</td>\n      <td>4.403743e+09</td>\n      <td>mantaghe 3</td>\n    </tr>\n    <tr>\n      <th>15</th>\n      <td>16.0</td>\n      <td>Melania_Hooper1787809246@chkzl.biz</td>\n      <td>Melania</td>\n      <td>Hooper</td>\n      <td>LUiBzgmiHG</td>\n      <td>Arman</td>\n      <td>free</td>\n      <td>2.791500e+09</td>\n      <td>Female</td>\n      <td>1/1/1381</td>\n      <td>20.0</td>\n      <td>15.60</td>\n      <td>1397.0</td>\n      <td>mechanic</td>\n      <td>zanjan</td>\n      <td>6.659027e+09</td>\n      <td>mantaghe 1</td>\n    </tr>\n    <tr>\n      <th>16</th>\n      <td>17.0</td>\n      <td>Ronald_White770285790@yafr7.page</td>\n      <td>Ronald</td>\n      <td>White</td>\n      <td>cYsfvc5UpC</td>\n      <td>Sohrab</td>\n      <td>obligated</td>\n      <td>9.255860e+09</td>\n      <td>Male</td>\n      <td>7/23/1383</td>\n      <td>22.0</td>\n      <td>13.69</td>\n      <td>1398.0</td>\n      <td>mechanic</td>\n      <td>alborz</td>\n      <td>3.380215e+09</td>\n      <td>mantaghe 3</td>\n    </tr>\n    <tr>\n      <th>17</th>\n      <td>18.0</td>\n      <td>Brad_Barrett1239071724@zynuu.pro</td>\n      <td>Brad</td>\n      <td>Barrett</td>\n      <td>AJYAqieHQN</td>\n      <td>Ehsanollah</td>\n      <td>free</td>\n      <td>7.910341e+09</td>\n      <td>Male</td>\n      <td>2/3/1383</td>\n      <td>36.0</td>\n      <td>18.24</td>\n      <td>1400.0</td>\n      <td>mechanic</td>\n      <td>kerman</td>\n      <td>7.536627e+08</td>\n      <td>mantaghe 3</td>\n    </tr>\n    <tr>\n      <th>18</th>\n      <td>19.0</td>\n      <td>Brad_White1032936938@cke3u.website</td>\n      <td>Brad</td>\n      <td>White</td>\n      <td>YRc2XYLDXJ</td>\n      <td>Arman</td>\n      <td>free</td>\n      <td>6.810767e+09</td>\n      <td>Male</td>\n      <td>3/17/1380</td>\n      <td>80.0</td>\n      <td>18.16</td>\n      <td>1400.0</td>\n      <td>computer</td>\n      <td>kerman</td>\n      <td>2.274933e+09</td>\n      <td>mantaghe 3</td>\n    </tr>\n    <tr>\n      <th>19</th>\n      <td>20.0</td>\n      <td>Gabriel_Zaoui706183432@lyvnc.audio</td>\n      <td>Gabriel</td>\n      <td>Zaoui</td>\n      <td>FRRV6trwBh</td>\n      <td>Ghafour</td>\n      <td>free</td>\n      <td>6.265889e+09</td>\n      <td>Male</td>\n      <td>12/13/1378</td>\n      <td>72.0</td>\n      <td>15.05</td>\n      <td>1400.0</td>\n      <td>computer</td>\n      <td>azarbaijan_gharbi</td>\n      <td>3.100556e+09</td>\n      <td>25 percent</td>\n    </tr>\n    <tr>\n      <th>20</th>\n      <td>21.0</td>\n      <td>Aleksandra_Powell376947139@bqkv0.info</td>\n      <td>Aleksandra</td>\n      <td>Powell</td>\n      <td>gVPpIayUu9</td>\n      <td>Aziz</td>\n      <td>obligated</td>\n      <td>2.456905e+09</td>\n      <td>Female</td>\n      <td>12/16/1383</td>\n      <td>24.0</td>\n      <td>12.27</td>\n      <td>1401.0</td>\n      <td>computer</td>\n      <td>hormozgan</td>\n      <td>5.322520e+09</td>\n      <td>mantaghe 3</td>\n    </tr>\n    <tr>\n      <th>21</th>\n      <td>22.0</td>\n      <td>Alexander_Ingram1170560759@bqkv0.tech</td>\n      <td>Alexander</td>\n      <td>Ingram</td>\n      <td>LtWy8Tke88</td>\n      <td>Navid</td>\n      <td>free</td>\n      <td>9.703698e+08</td>\n      <td>Male</td>\n      <td>10/3/1382</td>\n      <td>74.0</td>\n      <td>18.92</td>\n      <td>1401.0</td>\n      <td>computer</td>\n      <td>fars</td>\n      <td>8.896120e+09</td>\n      <td>5 percent</td>\n    </tr>\n    <tr>\n      <th>22</th>\n      <td>23.0</td>\n      <td>Penelope_Fowler802718282@gnjps.edu</td>\n      <td>Penelope</td>\n      <td>Fowler</td>\n      <td>qPm4n8Q8qF</td>\n      <td>Abdolhossein</td>\n      <td>free</td>\n      <td>8.949567e+09</td>\n      <td>Female</td>\n      <td>7/8/1380</td>\n      <td>10.0</td>\n      <td>13.54</td>\n      <td>1400.0</td>\n      <td>graphic</td>\n      <td>khorasan_shoamli</td>\n      <td>6.770887e+09</td>\n      <td>mantaghe 3</td>\n    </tr>\n    <tr>\n      <th>23</th>\n      <td>24.0</td>\n      <td>Jamie_Cavanagh647865819@avn7d.catering</td>\n      <td>Jamie</td>\n      <td>Cavanagh</td>\n      <td>w9YlMmP8pT</td>\n      <td>Abdollah</td>\n      <td>free</td>\n      <td>7.037114e+09</td>\n      <td>Female</td>\n      <td>9/19/1383</td>\n      <td>109.0</td>\n      <td>17.57</td>\n      <td>1398.0</td>\n      <td>mechanic</td>\n      <td>mazandaran</td>\n      <td>2.347352e+09</td>\n      <td>mantaghe 2</td>\n    </tr>\n    <tr>\n      <th>24</th>\n      <td>25.0</td>\n      <td>Liv_Ellison318168812@mpibr.net</td>\n      <td>Liv</td>\n      <td>Ellison</td>\n      <td>fxJbhOO4GX</td>\n      <td>Mahmoud</td>\n      <td>free</td>\n      <td>6.224447e+08</td>\n      <td>Female</td>\n      <td>6/6/1384</td>\n      <td>127.0</td>\n      <td>15.66</td>\n      <td>1398.0</td>\n      <td>graphic</td>\n      <td>hormozgan</td>\n      <td>7.196531e+09</td>\n      <td>25 percent</td>\n    </tr>\n    <tr>\n      <th>25</th>\n      <td>26.0</td>\n      <td>Hope_Rees2077039012@p5emz.online</td>\n      <td>Hope</td>\n      <td>Rees</td>\n      <td>HMha0HNVgn</td>\n      <td>Faramarz</td>\n      <td>free</td>\n      <td>6.602639e+09</td>\n      <td>Female</td>\n      <td>11/19/1379</td>\n      <td>117.0</td>\n      <td>17.09</td>\n      <td>1401.0</td>\n      <td>computer</td>\n      <td>khorasan_razavi</td>\n      <td>2.878338e+09</td>\n      <td>mantaghe 2</td>\n    </tr>\n    <tr>\n      <th>26</th>\n      <td>27.0</td>\n      <td>Margaret_Dubois579065785@lhp4j.name</td>\n      <td>Margaret</td>\n      <td>Dubois</td>\n      <td>9Ly3o1xbir</td>\n      <td>Sobhan</td>\n      <td>obligated</td>\n      <td>7.836973e+09</td>\n      <td>Female</td>\n      <td>5/14/1382</td>\n      <td>92.0</td>\n      <td>16.33</td>\n      <td>1397.0</td>\n      <td>mechanic</td>\n      <td>boshehr</td>\n      <td>9.746933e+09</td>\n      <td>25 percent</td>\n    </tr>\n    <tr>\n      <th>27</th>\n      <td>28.0</td>\n      <td>Joseph_Trent1225907418@c2nyu.info</td>\n      <td>Joseph</td>\n      <td>Trent</td>\n      <td>DZajy9ThxV</td>\n      <td>Mehdi</td>\n      <td>obligated</td>\n      <td>6.569089e+09</td>\n      <td>Male</td>\n      <td>1/28/1380</td>\n      <td>115.0</td>\n      <td>14.63</td>\n      <td>1401.0</td>\n      <td>mechanic</td>\n      <td>esfahan</td>\n      <td>4.677102e+07</td>\n      <td>mantaghe 3</td>\n    </tr>\n    <tr>\n      <th>28</th>\n      <td>29.0</td>\n      <td>Doug_Plant125380807@ckzyi.edu</td>\n      <td>Doug</td>\n      <td>Plant</td>\n      <td>pus0gWKEpR</td>\n      <td>Yousef</td>\n      <td>obligated</td>\n      <td>8.030102e+09</td>\n      <td>Male</td>\n      <td>8/6/1381</td>\n      <td>122.0</td>\n      <td>12.46</td>\n      <td>1399.0</td>\n      <td>civil</td>\n      <td>zanjan</td>\n      <td>6.214487e+09</td>\n      <td>25 percent</td>\n    </tr>\n    <tr>\n      <th>29</th>\n      <td>30.0</td>\n      <td>Alba_Olivier803089643@cdpfn.zone</td>\n      <td>Alba</td>\n      <td>Olivier</td>\n      <td>Z0IrKbWWiZ</td>\n      <td>Yahya</td>\n      <td>obligated</td>\n      <td>6.973119e+09</td>\n      <td>Female</td>\n      <td>10/16/1379</td>\n      <td>71.0</td>\n      <td>17.14</td>\n      <td>1401.0</td>\n      <td>civil</td>\n      <td>khorasan_shoamli</td>\n      <td>7.032348e+09</td>\n      <td>mantaghe 1</td>\n    </tr>\n    <tr>\n      <th>30</th>\n      <td>31.0</td>\n      <td>Bart_Uttridge1589789549@ptr6k.info</td>\n      <td>Bart</td>\n      <td>Uttridge</td>\n      <td>FjnZhIIpQs</td>\n      <td>Reza</td>\n      <td>obligated</td>\n      <td>9.768696e+09</td>\n      <td>Male</td>\n      <td>9/6/1378</td>\n      <td>87.0</td>\n      <td>18.60</td>\n      <td>1400.0</td>\n      <td>electrical</td>\n      <td>fars</td>\n      <td>5.682814e+09</td>\n      <td>mantaghe 1</td>\n    </tr>\n    <tr>\n      <th>31</th>\n      <td>32.0</td>\n      <td>Sarah_Kelly818608550@1kmd3.services</td>\n      <td>Sarah</td>\n      <td>Kelly</td>\n      <td>qnlZg5dr6f</td>\n      <td>Majid</td>\n      <td>free</td>\n      <td>4.186648e+09</td>\n      <td>Female</td>\n      <td>11/26/1381</td>\n      <td>71.0</td>\n      <td>17.28</td>\n      <td>1398.0</td>\n      <td>computer</td>\n      <td>khozestan</td>\n      <td>6.791939e+09</td>\n      <td>mantaghe 1</td>\n    </tr>\n    <tr>\n      <th>32</th>\n      <td>33.0</td>\n      <td>Natalie_Pratt234057847@1wa8o.club</td>\n      <td>Natalie</td>\n      <td>Pratt</td>\n      <td>EO2t2HzqDj</td>\n      <td>Khosrow</td>\n      <td>obligated</td>\n      <td>7.885374e+09</td>\n      <td>Female</td>\n      <td>11/25/1382</td>\n      <td>20.0</td>\n      <td>19.30</td>\n      <td>1398.0</td>\n      <td>graphic</td>\n      <td>gilan</td>\n      <td>9.091145e+09</td>\n      <td>25 percent</td>\n    </tr>\n    <tr>\n      <th>33</th>\n      <td>34.0</td>\n      <td>Kirsten_Notman1958739655@qu9ml.host</td>\n      <td>Kirsten</td>\n      <td>Notman</td>\n      <td>XM1fLAvowr</td>\n      <td>Behzad</td>\n      <td>free</td>\n      <td>8.367981e+09</td>\n      <td>Female</td>\n      <td>6/19/1381</td>\n      <td>108.0</td>\n      <td>14.78</td>\n      <td>1400.0</td>\n      <td>architecture</td>\n      <td>mazandaran</td>\n      <td>1.663571e+09</td>\n      <td>mantaghe 1</td>\n    </tr>\n    <tr>\n      <th>34</th>\n      <td>35.0</td>\n      <td>Elena_Brock1206812149@1wa8o.audio</td>\n      <td>Elena</td>\n      <td>Brock</td>\n      <td>arw4O7BW3r</td>\n      <td>Armin</td>\n      <td>free</td>\n      <td>1.723574e+09</td>\n      <td>Female</td>\n      <td>6/24/1383</td>\n      <td>77.0</td>\n      <td>19.01</td>\n      <td>1400.0</td>\n      <td>civil</td>\n      <td>khorasan_shoamli</td>\n      <td>5.299188e+09</td>\n      <td>25 percent</td>\n    </tr>\n    <tr>\n      <th>35</th>\n      <td>36.0</td>\n      <td>Shay_Flanders980746390@cdpfn.website</td>\n      <td>Shay</td>\n      <td>Flanders</td>\n      <td>pBSKrd3Srg</td>\n      <td>Iraj</td>\n      <td>obligated</td>\n      <td>9.915466e+08</td>\n      <td>Female</td>\n      <td>3/24/1384</td>\n      <td>106.0</td>\n      <td>14.94</td>\n      <td>1399.0</td>\n      <td>computer</td>\n      <td>azarbaijan_gharbi</td>\n      <td>7.688550e+08</td>\n      <td>mantaghe 3</td>\n    </tr>\n    <tr>\n      <th>36</th>\n      <td>37.0</td>\n      <td>John_Lyon1983792255@ptr6k.ca</td>\n      <td>John</td>\n      <td>Lyon</td>\n      <td>cwx7KZtGBI</td>\n      <td>Hamid</td>\n      <td>obligated</td>\n      <td>5.751599e+09</td>\n      <td>Male</td>\n      <td>7/28/1382</td>\n      <td>92.0</td>\n      <td>19.51</td>\n      <td>1401.0</td>\n      <td>graphic</td>\n      <td>fars</td>\n      <td>1.338111e+09</td>\n      <td>5 percent</td>\n    </tr>\n    <tr>\n      <th>37</th>\n      <td>38.0</td>\n      <td>Doug_Gaynor1500770080@yahoo.edu</td>\n      <td>Doug</td>\n      <td>Gaynor</td>\n      <td>nfyZukh0bL</td>\n      <td>Mohammad</td>\n      <td>free</td>\n      <td>5.635414e+08</td>\n      <td>Male</td>\n      <td>7/3/1380</td>\n      <td>18.0</td>\n      <td>19.90</td>\n      <td>1398.0</td>\n      <td>architecture</td>\n      <td>markazi</td>\n      <td>9.047488e+09</td>\n      <td>mantaghe 3</td>\n    </tr>\n    <tr>\n      <th>38</th>\n      <td>39.0</td>\n      <td>Ronald_Johnson185065433@ag5wi.space</td>\n      <td>Ronald</td>\n      <td>Johnson</td>\n      <td>6E29HHwPGb</td>\n      <td>Arman</td>\n      <td>free</td>\n      <td>8.341084e+09</td>\n      <td>Male</td>\n      <td>12/17/1383</td>\n      <td>64.0</td>\n      <td>19.08</td>\n      <td>1401.0</td>\n      <td>mechanic</td>\n      <td>ialm</td>\n      <td>4.305970e+09</td>\n      <td>25 percent</td>\n    </tr>\n    <tr>\n      <th>39</th>\n      <td>40.0</td>\n      <td>Eryn_Brown1205077117@cke3u.host</td>\n      <td>Eryn</td>\n      <td>Brown</td>\n      <td>b1UKokwlMX</td>\n      <td>Ali</td>\n      <td>free</td>\n      <td>2.504157e+09</td>\n      <td>Female</td>\n      <td>11/28/1378</td>\n      <td>96.0</td>\n      <td>16.38</td>\n      <td>1401.0</td>\n      <td>computer</td>\n      <td>azarbaijan_gharbi</td>\n      <td>5.898741e+08</td>\n      <td>5 percent</td>\n    </tr>\n    <tr>\n      <th>40</th>\n      <td>41.0</td>\n      <td>Harvey_Cann1000767221@iscmr.works</td>\n      <td>Harvey</td>\n      <td>Cann</td>\n      <td>VKGXOVzGLS</td>\n      <td>Omid</td>\n      <td>obligated</td>\n      <td>5.960333e+09</td>\n      <td>Male</td>\n      <td>6/14/1384</td>\n      <td>95.0</td>\n      <td>18.43</td>\n      <td>1400.0</td>\n      <td>electrical</td>\n      <td>azarbaijan_gharbi</td>\n      <td>6.826272e+09</td>\n      <td>mantaghe 3</td>\n    </tr>\n    <tr>\n      <th>41</th>\n      <td>42.0</td>\n      <td>Tony_Stewart1088542019@qu9ml.auction</td>\n      <td>Tony</td>\n      <td>Stewart</td>\n      <td>Gon36yx7qd</td>\n      <td>Behnam</td>\n      <td>obligated</td>\n      <td>9.527396e+09</td>\n      <td>Male</td>\n      <td>3/10/1379</td>\n      <td>83.0</td>\n      <td>15.43</td>\n      <td>1397.0</td>\n      <td>electrical</td>\n      <td>hormozgan</td>\n      <td>4.602321e+09</td>\n      <td>25 percent</td>\n    </tr>\n    <tr>\n      <th>42</th>\n      <td>43.0</td>\n      <td>Jayden_Russel1126694596@yafr7.digital</td>\n      <td>Jayden</td>\n      <td>Russel</td>\n      <td>xDvDqJNyVv</td>\n      <td>Davoud</td>\n      <td>obligated</td>\n      <td>7.038690e+09</td>\n      <td>Male</td>\n      <td>9/17/1382</td>\n      <td>71.0</td>\n      <td>19.20</td>\n      <td>1398.0</td>\n      <td>computer</td>\n      <td>yazd</td>\n      <td>2.914592e+09</td>\n      <td>mantaghe 2</td>\n    </tr>\n    <tr>\n      <th>43</th>\n      <td>44.0</td>\n      <td>Julian_Kerr1821681796@xtwt3.tech</td>\n      <td>Julian</td>\n      <td>Kerr</td>\n      <td>Pvdl1QHWK1</td>\n      <td>Hadi</td>\n      <td>obligated</td>\n      <td>8.953713e+08</td>\n      <td>Male</td>\n      <td>9/14/1379</td>\n      <td>86.0</td>\n      <td>13.52</td>\n      <td>1398.0</td>\n      <td>electrical</td>\n      <td>boshehr</td>\n      <td>2.928136e+09</td>\n      <td>5 percent</td>\n    </tr>\n    <tr>\n      <th>44</th>\n      <td>45.0</td>\n      <td>Sadie_Crawford1165316675@evyvh.center</td>\n      <td>Sadie</td>\n      <td>Crawford</td>\n      <td>zk8vkZddaO</td>\n      <td>Abdollah</td>\n      <td>free</td>\n      <td>7.705611e+09</td>\n      <td>Female</td>\n      <td>12/3/1383</td>\n      <td>39.0</td>\n      <td>12.60</td>\n      <td>1401.0</td>\n      <td>electrical</td>\n      <td>khorasan_jonobi</td>\n      <td>2.077600e+09</td>\n      <td>mantaghe 1</td>\n    </tr>\n    <tr>\n      <th>45</th>\n      <td>46.0</td>\n      <td>Susan_Gregory1118714842@ohqqh.store</td>\n      <td>Susan</td>\n      <td>Gregory</td>\n      <td>6K7vqKHpgN</td>\n      <td>Ghafour</td>\n      <td>obligated</td>\n      <td>2.279994e+09</td>\n      <td>Female</td>\n      <td>5/30/1384</td>\n      <td>4.0</td>\n      <td>12.11</td>\n      <td>1401.0</td>\n      <td>graphic</td>\n      <td>khorasan_razavi</td>\n      <td>5.656848e+09</td>\n      <td>25 percent</td>\n    </tr>\n    <tr>\n      <th>46</th>\n      <td>47.0</td>\n      <td>Lana_Allington193206210@zynuu.page</td>\n      <td>Lana</td>\n      <td>Allington</td>\n      <td>dOWGLUmR35</td>\n      <td>Afshin</td>\n      <td>free</td>\n      <td>7.367354e+09</td>\n      <td>Female</td>\n      <td>11/17/1378</td>\n      <td>53.0</td>\n      <td>19.39</td>\n      <td>1399.0</td>\n      <td>computer</td>\n      <td>gilan</td>\n      <td>2.504724e+09</td>\n      <td>25 percent</td>\n    </tr>\n    <tr>\n      <th>47</th>\n      <td>48.0</td>\n      <td>Fiona_Tyrrell643007147@gnjps.website</td>\n      <td>Fiona</td>\n      <td>Tyrrell</td>\n      <td>wf2YvwxduI</td>\n      <td>Iraj</td>\n      <td>obligated</td>\n      <td>1.227418e+09</td>\n      <td>Female</td>\n      <td>8/12/1381</td>\n      <td>22.0</td>\n      <td>14.63</td>\n      <td>1397.0</td>\n      <td>graphic</td>\n      <td>boshehr</td>\n      <td>8.345547e+09</td>\n      <td>mantaghe 1</td>\n    </tr>\n    <tr>\n      <th>48</th>\n      <td>49.0</td>\n      <td>Louise_Murphy1972734158@nanoff.business</td>\n      <td>Louise</td>\n      <td>Murphy</td>\n      <td>aEGMELN2Cv</td>\n      <td>Faramarz</td>\n      <td>free</td>\n      <td>2.453662e+09</td>\n      <td>Female</td>\n      <td>2/22/1380</td>\n      <td>133.0</td>\n      <td>19.19</td>\n      <td>1401.0</td>\n      <td>electrical</td>\n      <td>ghom</td>\n      <td>1.046264e+09</td>\n      <td>mantaghe 2</td>\n    </tr>\n    <tr>\n      <th>49</th>\n      <td>50.0</td>\n      <td>Doug_Summers2017226163@qu9ml.name</td>\n      <td>Doug</td>\n      <td>Summers</td>\n      <td>8q1qp6hyde</td>\n      <td>Fariborz</td>\n      <td>free</td>\n      <td>2.870767e+09</td>\n      <td>Male</td>\n      <td>10/19/1382</td>\n      <td>136.0</td>\n      <td>12.43</td>\n      <td>1397.0</td>\n      <td>electrical</td>\n      <td>ialm</td>\n      <td>8.777604e+09</td>\n      <td>25 percent</td>\n    </tr>\n  </tbody>\n</table>\n</div>"
     },
     "execution_count": 48,
     "metadata": {},
     "output_type": "execute_result"
    }
   ],
   "source": [
    "df.head(50)"
   ]
  },
  {
   "cell_type": "code",
   "execution_count": 49,
   "id": "8cb5e18d",
   "metadata": {},
   "outputs": [
    {
     "data": {
      "text/plain": "    ID                           Email Address first name last name  \\\n2  3.0      Julian_Talbot905290229@xtwt3.store     Julian    Talbot   \n3  4.0        Nicholas_Lane533246088@ds59r.app   Nicholas      Lane   \n5  6.0        Brad_Uttridge1947916448@uagvw.us       Brad  Uttridge   \n6  7.0        Carter_Dillon45688829@qu9ml.info     Carter    Dillon   \n8  9.0  Johnathan_Stone 1432444600@crzq7.space  Johnathan    Stone    \n\n     password father_name     status  student_number Gender   birthday  \\\n2  VXp4FBalvM  Abdolhamid  obligated    7.512851e+09   Male  9/19/1377   \n3  SwJBtimyr9  Ehsanollah       free    8.543001e+09   Male  9/26/1377   \n5  7EuehdyXDo    Homayoun  obligated    3.117774e+09   Male  12/2/1377   \n6  u75MGwTq0Z      Farhad       free    9.980612e+09   Male   5/8/1380   \n8  KOfGbQa6jQ     Khosrow       free    4.115806e+09   Male   5/2/1384   \n\n   passed_course_unit  grade_point_average  enterning_year         Field  \\\n2               136.0                12.69          1400.0      mechanic   \n3                90.0                15.35          1400.0    electrical   \n5                78.0                14.93          1398.0  architecture   \n6                50.0                17.44          1397.0       graphic   \n8                16.0                17.57          1398.0      computer   \n\n                    province  national_code       qutoa  \n2  chohar_mahal_va_bakhtiary   3.865381e+09  mantaghe 3  \n3                    ardabil   1.005230e+09  25 percent  \n5                 kermanshah   4.145672e+09  25 percent  \n6                 kermanshah   2.467019e+09  mantaghe 3  \n8                     tehran   7.720887e+09   5 percent  ",
      "text/html": "<div>\n<style scoped>\n    .dataframe tbody tr th:only-of-type {\n        vertical-align: middle;\n    }\n\n    .dataframe tbody tr th {\n        vertical-align: top;\n    }\n\n    .dataframe thead th {\n        text-align: right;\n    }\n</style>\n<table border=\"1\" class=\"dataframe\">\n  <thead>\n    <tr style=\"text-align: right;\">\n      <th></th>\n      <th>ID</th>\n      <th>Email Address</th>\n      <th>first name</th>\n      <th>last name</th>\n      <th>password</th>\n      <th>father_name</th>\n      <th>status</th>\n      <th>student_number</th>\n      <th>Gender</th>\n      <th>birthday</th>\n      <th>passed_course_unit</th>\n      <th>grade_point_average</th>\n      <th>enterning_year</th>\n      <th>Field</th>\n      <th>province</th>\n      <th>national_code</th>\n      <th>qutoa</th>\n    </tr>\n  </thead>\n  <tbody>\n    <tr>\n      <th>2</th>\n      <td>3.0</td>\n      <td>Julian_Talbot905290229@xtwt3.store</td>\n      <td>Julian</td>\n      <td>Talbot</td>\n      <td>VXp4FBalvM</td>\n      <td>Abdolhamid</td>\n      <td>obligated</td>\n      <td>7.512851e+09</td>\n      <td>Male</td>\n      <td>9/19/1377</td>\n      <td>136.0</td>\n      <td>12.69</td>\n      <td>1400.0</td>\n      <td>mechanic</td>\n      <td>chohar_mahal_va_bakhtiary</td>\n      <td>3.865381e+09</td>\n      <td>mantaghe 3</td>\n    </tr>\n    <tr>\n      <th>3</th>\n      <td>4.0</td>\n      <td>Nicholas_Lane533246088@ds59r.app</td>\n      <td>Nicholas</td>\n      <td>Lane</td>\n      <td>SwJBtimyr9</td>\n      <td>Ehsanollah</td>\n      <td>free</td>\n      <td>8.543001e+09</td>\n      <td>Male</td>\n      <td>9/26/1377</td>\n      <td>90.0</td>\n      <td>15.35</td>\n      <td>1400.0</td>\n      <td>electrical</td>\n      <td>ardabil</td>\n      <td>1.005230e+09</td>\n      <td>25 percent</td>\n    </tr>\n    <tr>\n      <th>5</th>\n      <td>6.0</td>\n      <td>Brad_Uttridge1947916448@uagvw.us</td>\n      <td>Brad</td>\n      <td>Uttridge</td>\n      <td>7EuehdyXDo</td>\n      <td>Homayoun</td>\n      <td>obligated</td>\n      <td>3.117774e+09</td>\n      <td>Male</td>\n      <td>12/2/1377</td>\n      <td>78.0</td>\n      <td>14.93</td>\n      <td>1398.0</td>\n      <td>architecture</td>\n      <td>kermanshah</td>\n      <td>4.145672e+09</td>\n      <td>25 percent</td>\n    </tr>\n    <tr>\n      <th>6</th>\n      <td>7.0</td>\n      <td>Carter_Dillon45688829@qu9ml.info</td>\n      <td>Carter</td>\n      <td>Dillon</td>\n      <td>u75MGwTq0Z</td>\n      <td>Farhad</td>\n      <td>free</td>\n      <td>9.980612e+09</td>\n      <td>Male</td>\n      <td>5/8/1380</td>\n      <td>50.0</td>\n      <td>17.44</td>\n      <td>1397.0</td>\n      <td>graphic</td>\n      <td>kermanshah</td>\n      <td>2.467019e+09</td>\n      <td>mantaghe 3</td>\n    </tr>\n    <tr>\n      <th>8</th>\n      <td>9.0</td>\n      <td>Johnathan_Stone 1432444600@crzq7.space</td>\n      <td>Johnathan</td>\n      <td>Stone</td>\n      <td>KOfGbQa6jQ</td>\n      <td>Khosrow</td>\n      <td>free</td>\n      <td>4.115806e+09</td>\n      <td>Male</td>\n      <td>5/2/1384</td>\n      <td>16.0</td>\n      <td>17.57</td>\n      <td>1398.0</td>\n      <td>computer</td>\n      <td>tehran</td>\n      <td>7.720887e+09</td>\n      <td>5 percent</td>\n    </tr>\n  </tbody>\n</table>\n</div>"
     },
     "execution_count": 49,
     "metadata": {},
     "output_type": "execute_result"
    }
   ],
   "source": [
    "df1 = df.query('Gender == \"Male\"')\n",
    "df1.head()"
   ]
  },
  {
   "cell_type": "code",
   "execution_count": 50,
   "id": "9c419d88",
   "metadata": {},
   "outputs": [
    {
     "data": {
      "text/plain": "      ID                        Email Address first name last name  \\\n0    1.0     Isabel_York156586436@c2nyu.works     Isabel      York   \n1    2.0    Sienna_Duvall908637957@bcfhs.meet     Sienna    Duvall   \n4    5.0  Daphne_Faulkner129131798@nanoff.pro     Daphne  Faulkner   \n7    8.0  Carolyn_Brennan849452089@cdpfn.mobi    Carolyn   Brennan   \n10  11.0     Emely_Rixon116681363@chkzl.autos      Emely     Rixon   \n\n      password father_name     status  student_number  Gender    birthday  \\\n0   JtjFdAk5HW    Fariborz  obligated    7.785214e+09  Female    6/2/1380   \n1   MpI1bauhmP     Ebrahim       free    1.617643e+09  Female   1/20/1383   \n4   X8sqPsoHDs        Hadi       free    3.301624e+09  Female  12/29/1379   \n7   dsrzJo0jpa      Bahman       free    5.172836e+09  Female    8/8/1383   \n10  M5VSF2btjY      Zohreh       free    3.127789e+09  Female   4/14/1378   \n\n    passed_course_unit  grade_point_average  enterning_year         Field  \\\n0                 40.0                18.40          1398.0  architecture   \n1                 17.0                18.04          1399.0    electrical   \n4                 37.0                13.13          1399.0  architecture   \n7                 30.0                14.91          1398.0  architecture   \n10               109.0                13.58          1400.0  architecture   \n\n           province  national_code       qutoa  \n0         khozestan   1.114976e+09  mantaghe 1  \n1           esfahan   5.295921e+09  mantaghe 3  \n4           boshehr   7.081041e+09  25 percent  \n7   khorasan_jonobi   2.627950e+09  mantaghe 2  \n10          esfahan   4.208734e+08  mantaghe 3  ",
      "text/html": "<div>\n<style scoped>\n    .dataframe tbody tr th:only-of-type {\n        vertical-align: middle;\n    }\n\n    .dataframe tbody tr th {\n        vertical-align: top;\n    }\n\n    .dataframe thead th {\n        text-align: right;\n    }\n</style>\n<table border=\"1\" class=\"dataframe\">\n  <thead>\n    <tr style=\"text-align: right;\">\n      <th></th>\n      <th>ID</th>\n      <th>Email Address</th>\n      <th>first name</th>\n      <th>last name</th>\n      <th>password</th>\n      <th>father_name</th>\n      <th>status</th>\n      <th>student_number</th>\n      <th>Gender</th>\n      <th>birthday</th>\n      <th>passed_course_unit</th>\n      <th>grade_point_average</th>\n      <th>enterning_year</th>\n      <th>Field</th>\n      <th>province</th>\n      <th>national_code</th>\n      <th>qutoa</th>\n    </tr>\n  </thead>\n  <tbody>\n    <tr>\n      <th>0</th>\n      <td>1.0</td>\n      <td>Isabel_York156586436@c2nyu.works</td>\n      <td>Isabel</td>\n      <td>York</td>\n      <td>JtjFdAk5HW</td>\n      <td>Fariborz</td>\n      <td>obligated</td>\n      <td>7.785214e+09</td>\n      <td>Female</td>\n      <td>6/2/1380</td>\n      <td>40.0</td>\n      <td>18.40</td>\n      <td>1398.0</td>\n      <td>architecture</td>\n      <td>khozestan</td>\n      <td>1.114976e+09</td>\n      <td>mantaghe 1</td>\n    </tr>\n    <tr>\n      <th>1</th>\n      <td>2.0</td>\n      <td>Sienna_Duvall908637957@bcfhs.meet</td>\n      <td>Sienna</td>\n      <td>Duvall</td>\n      <td>MpI1bauhmP</td>\n      <td>Ebrahim</td>\n      <td>free</td>\n      <td>1.617643e+09</td>\n      <td>Female</td>\n      <td>1/20/1383</td>\n      <td>17.0</td>\n      <td>18.04</td>\n      <td>1399.0</td>\n      <td>electrical</td>\n      <td>esfahan</td>\n      <td>5.295921e+09</td>\n      <td>mantaghe 3</td>\n    </tr>\n    <tr>\n      <th>4</th>\n      <td>5.0</td>\n      <td>Daphne_Faulkner129131798@nanoff.pro</td>\n      <td>Daphne</td>\n      <td>Faulkner</td>\n      <td>X8sqPsoHDs</td>\n      <td>Hadi</td>\n      <td>free</td>\n      <td>3.301624e+09</td>\n      <td>Female</td>\n      <td>12/29/1379</td>\n      <td>37.0</td>\n      <td>13.13</td>\n      <td>1399.0</td>\n      <td>architecture</td>\n      <td>boshehr</td>\n      <td>7.081041e+09</td>\n      <td>25 percent</td>\n    </tr>\n    <tr>\n      <th>7</th>\n      <td>8.0</td>\n      <td>Carolyn_Brennan849452089@cdpfn.mobi</td>\n      <td>Carolyn</td>\n      <td>Brennan</td>\n      <td>dsrzJo0jpa</td>\n      <td>Bahman</td>\n      <td>free</td>\n      <td>5.172836e+09</td>\n      <td>Female</td>\n      <td>8/8/1383</td>\n      <td>30.0</td>\n      <td>14.91</td>\n      <td>1398.0</td>\n      <td>architecture</td>\n      <td>khorasan_jonobi</td>\n      <td>2.627950e+09</td>\n      <td>mantaghe 2</td>\n    </tr>\n    <tr>\n      <th>10</th>\n      <td>11.0</td>\n      <td>Emely_Rixon116681363@chkzl.autos</td>\n      <td>Emely</td>\n      <td>Rixon</td>\n      <td>M5VSF2btjY</td>\n      <td>Zohreh</td>\n      <td>free</td>\n      <td>3.127789e+09</td>\n      <td>Female</td>\n      <td>4/14/1378</td>\n      <td>109.0</td>\n      <td>13.58</td>\n      <td>1400.0</td>\n      <td>architecture</td>\n      <td>esfahan</td>\n      <td>4.208734e+08</td>\n      <td>mantaghe 3</td>\n    </tr>\n  </tbody>\n</table>\n</div>"
     },
     "execution_count": 50,
     "metadata": {},
     "output_type": "execute_result"
    }
   ],
   "source": [
    "df2 = df.query('Gender == \"Female\"')\n",
    "df2.head()"
   ]
  },
  {
   "cell_type": "code",
   "execution_count": 51,
   "id": "f0156939",
   "metadata": {
    "scrolled": true
   },
   "outputs": [
    {
     "data": {
      "text/plain": "     grade_point_average  enterning_year         Field  \\\n2                  12.69          1400.0      mechanic   \n3                  15.35          1400.0    electrical   \n5                  14.93          1398.0  architecture   \n6                  17.44          1397.0       graphic   \n8                  17.57          1398.0      computer   \n..                   ...             ...           ...   \n291                17.47          1398.0         civil   \n292                14.36          1401.0         civil   \n296                13.11          1398.0      computer   \n297                17.83          1397.0    electrical   \n300                12.27          1401.0      mechanic   \n\n                      province  \n2    chohar_mahal_va_bakhtiary  \n3                      ardabil  \n5                   kermanshah  \n6                   kermanshah  \n8                       tehran  \n..                         ...  \n291           khorasan_shoamli  \n292                   lorestan  \n296                     zanjan  \n297                     semnan  \n300                       yazd  \n\n[150 rows x 4 columns]",
      "text/html": "<div>\n<style scoped>\n    .dataframe tbody tr th:only-of-type {\n        vertical-align: middle;\n    }\n\n    .dataframe tbody tr th {\n        vertical-align: top;\n    }\n\n    .dataframe thead th {\n        text-align: right;\n    }\n</style>\n<table border=\"1\" class=\"dataframe\">\n  <thead>\n    <tr style=\"text-align: right;\">\n      <th></th>\n      <th>grade_point_average</th>\n      <th>enterning_year</th>\n      <th>Field</th>\n      <th>province</th>\n    </tr>\n  </thead>\n  <tbody>\n    <tr>\n      <th>2</th>\n      <td>12.69</td>\n      <td>1400.0</td>\n      <td>mechanic</td>\n      <td>chohar_mahal_va_bakhtiary</td>\n    </tr>\n    <tr>\n      <th>3</th>\n      <td>15.35</td>\n      <td>1400.0</td>\n      <td>electrical</td>\n      <td>ardabil</td>\n    </tr>\n    <tr>\n      <th>5</th>\n      <td>14.93</td>\n      <td>1398.0</td>\n      <td>architecture</td>\n      <td>kermanshah</td>\n    </tr>\n    <tr>\n      <th>6</th>\n      <td>17.44</td>\n      <td>1397.0</td>\n      <td>graphic</td>\n      <td>kermanshah</td>\n    </tr>\n    <tr>\n      <th>8</th>\n      <td>17.57</td>\n      <td>1398.0</td>\n      <td>computer</td>\n      <td>tehran</td>\n    </tr>\n    <tr>\n      <th>...</th>\n      <td>...</td>\n      <td>...</td>\n      <td>...</td>\n      <td>...</td>\n    </tr>\n    <tr>\n      <th>291</th>\n      <td>17.47</td>\n      <td>1398.0</td>\n      <td>civil</td>\n      <td>khorasan_shoamli</td>\n    </tr>\n    <tr>\n      <th>292</th>\n      <td>14.36</td>\n      <td>1401.0</td>\n      <td>civil</td>\n      <td>lorestan</td>\n    </tr>\n    <tr>\n      <th>296</th>\n      <td>13.11</td>\n      <td>1398.0</td>\n      <td>computer</td>\n      <td>zanjan</td>\n    </tr>\n    <tr>\n      <th>297</th>\n      <td>17.83</td>\n      <td>1397.0</td>\n      <td>electrical</td>\n      <td>semnan</td>\n    </tr>\n    <tr>\n      <th>300</th>\n      <td>12.27</td>\n      <td>1401.0</td>\n      <td>mechanic</td>\n      <td>yazd</td>\n    </tr>\n  </tbody>\n</table>\n<p>150 rows × 4 columns</p>\n</div>"
     },
     "execution_count": 51,
     "metadata": {},
     "output_type": "execute_result"
    }
   ],
   "source": [
    "df3 = df1.iloc[:,11:15]\n",
    "df3.head(150)"
   ]
  },
  {
   "cell_type": "code",
   "execution_count": 52,
   "id": "7f1079e1",
   "metadata": {},
   "outputs": [
    {
     "data": {
      "text/plain": "     grade_point_average  enterning_year         Field         province\n0                  18.40          1398.0  architecture        khozestan\n1                  18.04          1399.0    electrical          esfahan\n4                  13.13          1399.0  architecture          boshehr\n7                  14.91          1398.0  architecture  khorasan_jonobi\n10                 13.58          1400.0  architecture          esfahan\n..                   ...             ...           ...              ...\n288                13.31          1398.0         civil           tehran\n293                12.42          1400.0  architecture             ialm\n294                19.66          1400.0  architecture           tehran\n295                18.76          1398.0      computer           kerman\n298                18.09          1398.0      mechanic        kordestan\n\n[150 rows x 4 columns]",
      "text/html": "<div>\n<style scoped>\n    .dataframe tbody tr th:only-of-type {\n        vertical-align: middle;\n    }\n\n    .dataframe tbody tr th {\n        vertical-align: top;\n    }\n\n    .dataframe thead th {\n        text-align: right;\n    }\n</style>\n<table border=\"1\" class=\"dataframe\">\n  <thead>\n    <tr style=\"text-align: right;\">\n      <th></th>\n      <th>grade_point_average</th>\n      <th>enterning_year</th>\n      <th>Field</th>\n      <th>province</th>\n    </tr>\n  </thead>\n  <tbody>\n    <tr>\n      <th>0</th>\n      <td>18.40</td>\n      <td>1398.0</td>\n      <td>architecture</td>\n      <td>khozestan</td>\n    </tr>\n    <tr>\n      <th>1</th>\n      <td>18.04</td>\n      <td>1399.0</td>\n      <td>electrical</td>\n      <td>esfahan</td>\n    </tr>\n    <tr>\n      <th>4</th>\n      <td>13.13</td>\n      <td>1399.0</td>\n      <td>architecture</td>\n      <td>boshehr</td>\n    </tr>\n    <tr>\n      <th>7</th>\n      <td>14.91</td>\n      <td>1398.0</td>\n      <td>architecture</td>\n      <td>khorasan_jonobi</td>\n    </tr>\n    <tr>\n      <th>10</th>\n      <td>13.58</td>\n      <td>1400.0</td>\n      <td>architecture</td>\n      <td>esfahan</td>\n    </tr>\n    <tr>\n      <th>...</th>\n      <td>...</td>\n      <td>...</td>\n      <td>...</td>\n      <td>...</td>\n    </tr>\n    <tr>\n      <th>288</th>\n      <td>13.31</td>\n      <td>1398.0</td>\n      <td>civil</td>\n      <td>tehran</td>\n    </tr>\n    <tr>\n      <th>293</th>\n      <td>12.42</td>\n      <td>1400.0</td>\n      <td>architecture</td>\n      <td>ialm</td>\n    </tr>\n    <tr>\n      <th>294</th>\n      <td>19.66</td>\n      <td>1400.0</td>\n      <td>architecture</td>\n      <td>tehran</td>\n    </tr>\n    <tr>\n      <th>295</th>\n      <td>18.76</td>\n      <td>1398.0</td>\n      <td>computer</td>\n      <td>kerman</td>\n    </tr>\n    <tr>\n      <th>298</th>\n      <td>18.09</td>\n      <td>1398.0</td>\n      <td>mechanic</td>\n      <td>kordestan</td>\n    </tr>\n  </tbody>\n</table>\n<p>150 rows × 4 columns</p>\n</div>"
     },
     "execution_count": 52,
     "metadata": {},
     "output_type": "execute_result"
    }
   ],
   "source": [
    "df4 = df2.iloc[:,11:15]\n",
    "df4.head(150)\n"
   ]
  },
  {
   "cell_type": "code",
   "execution_count": 53,
   "id": "17258aa7",
   "metadata": {},
   "outputs": [
    {
     "name": "stdout",
     "output_type": "stream",
     "text": [
      "      grade_point_average  enterning_year  Field                   province\n",
      "2                   12.69          1400.0     57  chohar_mahal_va_bakhtiary\n",
      "3                   15.35          1400.0     13                    ardabil\n",
      "5                   14.93          1398.0     42                 kermanshah\n",
      "6                   17.44          1397.0     39                 kermanshah\n",
      "8                   17.57          1398.0     14                     tehran\n",
      "...                   ...             ...    ...                        ...\n",
      "9995                13.13          1398.0     39                     kerman\n",
      "9996                14.23          1401.0     13                    ardabil\n",
      "9997                18.29          1398.0     41                      gilan\n",
      "9998                18.15          1397.0     42          azarbaijan_gharbi\n",
      "9999                15.62          1398.0     13          azarbaijan_gharbi\n",
      "\n",
      "[6900 rows x 4 columns]\n"
     ]
    }
   ],
   "source": [
    "nominal_to_numeric_Field_male = {'electrical' : 13, 'architecture' : 42, 'computer' : 14, 'civil' : 41, 'graphic' : 39, 'mechanic' : 57}\n",
    "df3['Field'] = df3['Field'].map(nominal_to_numeric_Field_male)\n",
    "print(df3)"
   ]
  },
  {
   "cell_type": "code",
   "execution_count": 54,
   "id": "0f461e8f",
   "metadata": {},
   "outputs": [
    {
     "name": "stdout",
     "output_type": "stream",
     "text": [
      "      grade_point_average  enterning_year  Field               province\n",
      "0                   18.40          1398.0     42              khozestan\n",
      "1                   18.04          1399.0     13                esfahan\n",
      "4                   13.13          1399.0     42                boshehr\n",
      "7                   14.91          1398.0     42        khorasan_jonobi\n",
      "10                  13.58          1400.0     42                esfahan\n",
      "...                   ...             ...    ...                    ...\n",
      "6309                12.74          1397.0     41                   yazd\n",
      "6311                14.77          1400.0     14                 tehran\n",
      "6312                18.22          1397.0     13                ardabil\n",
      "6313                15.00          1400.0     14                hamedan\n",
      "6315                18.80          1398.0     14  sistan_va_balochestan\n",
      "\n",
      "[3100 rows x 4 columns]\n"
     ]
    }
   ],
   "source": [
    "nominal_to_numeric_Field_female = {'electrical' : 13, 'architecture' : 42, 'computer' : 14, 'civil' : 41, 'graphic' : 39, 'mechanic' : 57}\n",
    "df4['Field'] = df4['Field'].map(nominal_to_numeric_Field_female)\n",
    "print(df4)"
   ]
  },
  {
   "cell_type": "code",
   "execution_count": 55,
   "id": "3ee2c2f0",
   "metadata": {},
   "outputs": [
    {
     "name": "stdout",
     "output_type": "stream",
     "text": [
      "      grade_point_average  enterning_year  Field                   province\n",
      "2                   12.69               4     57  chohar_mahal_va_bakhtiary\n",
      "3                   15.35               4     13                    ardabil\n",
      "5                   14.93               2     42                 kermanshah\n",
      "6                   17.44               1     39                 kermanshah\n",
      "8                   17.57               2     14                     tehran\n",
      "...                   ...             ...    ...                        ...\n",
      "9995                13.13               2     39                     kerman\n",
      "9996                14.23               5     13                    ardabil\n",
      "9997                18.29               2     41                      gilan\n",
      "9998                18.15               1     42          azarbaijan_gharbi\n",
      "9999                15.62               2     13          azarbaijan_gharbi\n",
      "\n",
      "[6900 rows x 4 columns]\n"
     ]
    }
   ],
   "source": [
    "nominal_to_numeric_enterning_year_male = {1397 : 1, 1398 : 2, 1399 : 3, 1400 : 4, 1401 : 5}\n",
    "df3['enterning_year'] = df3['enterning_year'].map(nominal_to_numeric_enterning_year_male)\n",
    "print(df3)"
   ]
  },
  {
   "cell_type": "code",
   "execution_count": 56,
   "id": "d07f2b6a",
   "metadata": {},
   "outputs": [
    {
     "name": "stdout",
     "output_type": "stream",
     "text": [
      "      grade_point_average  enterning_year  Field               province\n",
      "0                   18.40               2     42              khozestan\n",
      "1                   18.04               3     13                esfahan\n",
      "4                   13.13               3     42                boshehr\n",
      "7                   14.91               2     42        khorasan_jonobi\n",
      "10                  13.58               4     42                esfahan\n",
      "...                   ...             ...    ...                    ...\n",
      "6309                12.74               1     41                   yazd\n",
      "6311                14.77               4     14                 tehran\n",
      "6312                18.22               1     13                ardabil\n",
      "6313                15.00               4     14                hamedan\n",
      "6315                18.80               2     14  sistan_va_balochestan\n",
      "\n",
      "[3100 rows x 4 columns]\n"
     ]
    }
   ],
   "source": [
    "nominal_to_numeric_enterning_year_female = {1397 : 1, 1398 : 2, 1399 : 3, 1400 : 4, 1401 : 5}\n",
    "df4['enterning_year'] = df4['enterning_year'].map(nominal_to_numeric_enterning_year_female)\n",
    "print(df4)"
   ]
  },
  {
   "cell_type": "code",
   "execution_count": 57,
   "id": "b1ba19fc",
   "metadata": {},
   "outputs": [
    {
     "name": "stdout",
     "output_type": "stream",
     "text": [
      "      grade_point_average  enterning_year  Field  province\n",
      "2                   12.69               4     57       289\n",
      "3                   15.35               4     13       238\n",
      "5                   14.93               2     42       218\n",
      "6                   17.44               1     39       218\n",
      "8                   17.57               2     14       116\n",
      "...                   ...             ...    ...       ...\n",
      "9995                13.13               2     39       194\n",
      "9996                14.23               5     13       238\n",
      "9997                18.29               2     41       159\n",
      "9998                18.15               1     42       277\n",
      "9999                15.62               2     13       277\n",
      "\n",
      "[6900 rows x 4 columns]\n"
     ]
    }
   ],
   "source": [
    "nominal_to_numeric_province_male = {'kahgoloie_va_boyerahmad' : 13, 'alborz' : 21, 'hormozgan' : 39, 'semnan' : 47, 'ghom' : 54, 'boshehr' : 66,'azarbaijan_sharghi' : 73,'mazandaran' : 89,'sistan_va_balochestan' : 94,'khorasan_jonobi' : 107,'tehran' : 116,'ialm' : 124,'kordestan' : 137,'zanjan' : 146,'gilan' : 159,'golestan' : 167,'lorestan' : 173,'khozestan' : 187,'kerman' : 194,'fars' : 207,'kermanshah' : 218,'yazd' : 223,'ardabil' : 238,'esfahan' : 247,'khorasan_shoamli' : 254,'markazi' : 267,'azarbaijan_gharbi' : 277,'chohar_mahal_va_bakhtiary' : 289,'khorasan_razavi' : 294,'hamedan' : 307,'ghazvin' : 317}\n",
    "df3['province'] = df3['province'].map(nominal_to_numeric_province_male)\n",
    "print(df3)"
   ]
  },
  {
   "cell_type": "code",
   "execution_count": 58,
   "id": "30924ce8",
   "metadata": {},
   "outputs": [
    {
     "name": "stdout",
     "output_type": "stream",
     "text": [
      "      grade_point_average  enterning_year  Field  province\n",
      "0                   18.40               2     42       187\n",
      "1                   18.04               3     13       247\n",
      "4                   13.13               3     42        66\n",
      "7                   14.91               2     42       107\n",
      "10                  13.58               4     42       247\n",
      "...                   ...             ...    ...       ...\n",
      "6309                12.74               1     41       223\n",
      "6311                14.77               4     14       116\n",
      "6312                18.22               1     13       238\n",
      "6313                15.00               4     14       307\n",
      "6315                18.80               2     14        94\n",
      "\n",
      "[3100 rows x 4 columns]\n"
     ]
    }
   ],
   "source": [
    "nominal_to_numeric_province_female = {'kahgoloie_va_boyerahmad' : 13, 'alborz' : 21, 'hormozgan' : 39, 'semnan' : 47, 'ghom' : 54, 'boshehr' : 66,'azarbaijan_sharghi' : 73,'mazandaran' : 89,'sistan_va_balochestan' : 94,'khorasan_jonobi' : 107,'tehran' : 116,'ialm' : 124,'kordestan' : 137,'zanjan' : 146,'gilan' : 159,'golestan' : 167,'lorestan' : 173,'khozestan' : 187,'kerman' : 194,'fars' : 207,'kermanshah' : 218,'yazd' : 223,'ardabil' : 238,'esfahan' : 247,'khorasan_shoamli' : 254,'markazi' : 267,'azarbaijan_gharbi' : 277,'chohar_mahal_va_bakhtiary' : 289,'khorasan_razavi' : 294,'hamedan' : 307,'ghazvin' : 317}\n",
    "df4['province'] = df4['province'].map(nominal_to_numeric_province_female)\n",
    "print(df4)"
   ]
  },
  {
   "cell_type": "code",
   "execution_count": 59,
   "id": "99241b90",
   "metadata": {},
   "outputs": [
    {
     "name": "stdout",
     "output_type": "stream",
     "text": [
      "      grade_point_average  enterning_year  Field  province  norm_avg_male\n",
      "2                   12.69               4     57       289        0.08625\n",
      "3                   15.35               4     13       238        0.41875\n",
      "5                   14.93               2     42       218        0.36625\n",
      "6                   17.44               1     39       218        0.68000\n",
      "8                   17.57               2     14       116        0.69625\n",
      "...                   ...             ...    ...       ...            ...\n",
      "9995                13.13               2     39       194        0.14125\n",
      "9996                14.23               5     13       238        0.27875\n",
      "9997                18.29               2     41       159        0.78625\n",
      "9998                18.15               1     42       277        0.76875\n",
      "9999                15.62               2     13       277        0.45250\n",
      "\n",
      "[6900 rows x 5 columns]\n"
     ]
    }
   ],
   "source": [
    "avg = df3['grade_point_average']\n",
    "avg_arr = avg.values.reshape(-1,1)\n",
    "scaler = MinMaxScaler()\n",
    "norm_avg = scaler.fit_transform(avg_arr)\n",
    "df3['norm_avg_male'] = norm_avg\n",
    "print(df3)"
   ]
  },
  {
   "cell_type": "code",
   "execution_count": 60,
   "id": "10ec7e18",
   "metadata": {},
   "outputs": [
    {
     "name": "stdout",
     "output_type": "stream",
     "text": [
      "      grade_point_average  enterning_year  Field  province  norm_avg_female\n",
      "0                   18.40               2     42       187          0.80000\n",
      "1                   18.04               3     13       247          0.75500\n",
      "4                   13.13               3     42        66          0.14125\n",
      "7                   14.91               2     42       107          0.36375\n",
      "10                  13.58               4     42       247          0.19750\n",
      "...                   ...             ...    ...       ...              ...\n",
      "6309                12.74               1     41       223          0.09250\n",
      "6311                14.77               4     14       116          0.34625\n",
      "6312                18.22               1     13       238          0.77750\n",
      "6313                15.00               4     14       307          0.37500\n",
      "6315                18.80               2     14        94          0.85000\n",
      "\n",
      "[3100 rows x 5 columns]\n"
     ]
    }
   ],
   "source": [
    "avg = df4['grade_point_average']\n",
    "avg_arr = avg.values.reshape(-1,1)\n",
    "scaler = MinMaxScaler()\n",
    "norm_avg = scaler.fit_transform(avg_arr)\n",
    "df4['norm_avg_female'] = norm_avg\n",
    "print(df4)"
   ]
  },
  {
   "cell_type": "code",
   "execution_count": 61,
   "id": "869f5cb3",
   "metadata": {},
   "outputs": [
    {
     "name": "stdout",
     "output_type": "stream",
     "text": [
      "      grade_point_average  enterning_year  Field  province  norm_avg_male  \\\n",
      "2                   12.69               4     57       289        0.08625   \n",
      "3                   15.35               4     13       238        0.41875   \n",
      "5                   14.93               2     42       218        0.36625   \n",
      "6                   17.44               1     39       218        0.68000   \n",
      "8                   17.57               2     14       116        0.69625   \n",
      "...                   ...             ...    ...       ...            ...   \n",
      "9995                13.13               2     39       194        0.14125   \n",
      "9996                14.23               5     13       238        0.27875   \n",
      "9997                18.29               2     41       159        0.78625   \n",
      "9998                18.15               1     42       277        0.76875   \n",
      "9999                15.62               2     13       277        0.45250   \n",
      "\n",
      "      norm_year_male  \n",
      "2               0.75  \n",
      "3               0.75  \n",
      "5               0.25  \n",
      "6               0.00  \n",
      "8               0.25  \n",
      "...              ...  \n",
      "9995            0.25  \n",
      "9996            1.00  \n",
      "9997            0.25  \n",
      "9998            0.00  \n",
      "9999            0.25  \n",
      "\n",
      "[6900 rows x 6 columns]\n"
     ]
    }
   ],
   "source": [
    "year = df3['enterning_year']\n",
    "year_arr = year.values.reshape(-1,1)\n",
    "scaler = MinMaxScaler()\n",
    "norm_year = scaler.fit_transform(year_arr)\n",
    "df3['norm_year_male'] = norm_year\n",
    "print(df3)"
   ]
  },
  {
   "cell_type": "code",
   "execution_count": 62,
   "id": "c656d9dd",
   "metadata": {},
   "outputs": [
    {
     "name": "stdout",
     "output_type": "stream",
     "text": [
      "      grade_point_average  enterning_year  Field  province  norm_avg_female  \\\n",
      "0                   18.40               2     42       187          0.80000   \n",
      "1                   18.04               3     13       247          0.75500   \n",
      "4                   13.13               3     42        66          0.14125   \n",
      "7                   14.91               2     42       107          0.36375   \n",
      "10                  13.58               4     42       247          0.19750   \n",
      "...                   ...             ...    ...       ...              ...   \n",
      "6309                12.74               1     41       223          0.09250   \n",
      "6311                14.77               4     14       116          0.34625   \n",
      "6312                18.22               1     13       238          0.77750   \n",
      "6313                15.00               4     14       307          0.37500   \n",
      "6315                18.80               2     14        94          0.85000   \n",
      "\n",
      "      norm_year_female  \n",
      "0                 0.25  \n",
      "1                 0.50  \n",
      "4                 0.50  \n",
      "7                 0.25  \n",
      "10                0.75  \n",
      "...                ...  \n",
      "6309              0.00  \n",
      "6311              0.75  \n",
      "6312              0.00  \n",
      "6313              0.75  \n",
      "6315              0.25  \n",
      "\n",
      "[3100 rows x 6 columns]\n"
     ]
    }
   ],
   "source": [
    "year = df4['enterning_year']\n",
    "year_arr = year.values.reshape(-1,1)\n",
    "scaler = MinMaxScaler()\n",
    "norm_year = scaler.fit_transform(year_arr)\n",
    "df4['norm_year_female'] = norm_year\n",
    "print(df4)"
   ]
  },
  {
   "cell_type": "code",
   "execution_count": 63,
   "id": "02eea24d",
   "metadata": {},
   "outputs": [
    {
     "name": "stdout",
     "output_type": "stream",
     "text": [
      "      grade_point_average  enterning_year  Field  province  norm_avg_male  \\\n",
      "2                   12.69               4     57       289        0.08625   \n",
      "3                   15.35               4     13       238        0.41875   \n",
      "5                   14.93               2     42       218        0.36625   \n",
      "6                   17.44               1     39       218        0.68000   \n",
      "8                   17.57               2     14       116        0.69625   \n",
      "...                   ...             ...    ...       ...            ...   \n",
      "9995                13.13               2     39       194        0.14125   \n",
      "9996                14.23               5     13       238        0.27875   \n",
      "9997                18.29               2     41       159        0.78625   \n",
      "9998                18.15               1     42       277        0.76875   \n",
      "9999                15.62               2     13       277        0.45250   \n",
      "\n",
      "      norm_year_male  norm_field_male  \n",
      "2               0.75         1.000000  \n",
      "3               0.75         0.000000  \n",
      "5               0.25         0.659091  \n",
      "6               0.00         0.590909  \n",
      "8               0.25         0.022727  \n",
      "...              ...              ...  \n",
      "9995            0.25         0.590909  \n",
      "9996            1.00         0.000000  \n",
      "9997            0.25         0.636364  \n",
      "9998            0.00         0.659091  \n",
      "9999            0.25         0.000000  \n",
      "\n",
      "[6900 rows x 7 columns]\n"
     ]
    }
   ],
   "source": [
    "field = df3['Field']\n",
    "field_arr = field.values.reshape(-1,1)\n",
    "scaler = MinMaxScaler()\n",
    "norm_field = scaler.fit_transform(field_arr)\n",
    "df3['norm_field_male'] = norm_field\n",
    "print(df3)"
   ]
  },
  {
   "cell_type": "code",
   "execution_count": 64,
   "id": "e4fb1ecb",
   "metadata": {},
   "outputs": [
    {
     "name": "stdout",
     "output_type": "stream",
     "text": [
      "      grade_point_average  enterning_year  Field  province  norm_avg_female  \\\n",
      "0                   18.40               2     42       187          0.80000   \n",
      "1                   18.04               3     13       247          0.75500   \n",
      "4                   13.13               3     42        66          0.14125   \n",
      "7                   14.91               2     42       107          0.36375   \n",
      "10                  13.58               4     42       247          0.19750   \n",
      "...                   ...             ...    ...       ...              ...   \n",
      "6309                12.74               1     41       223          0.09250   \n",
      "6311                14.77               4     14       116          0.34625   \n",
      "6312                18.22               1     13       238          0.77750   \n",
      "6313                15.00               4     14       307          0.37500   \n",
      "6315                18.80               2     14        94          0.85000   \n",
      "\n",
      "      norm_year_female  norm_field_female  \n",
      "0                 0.25           0.659091  \n",
      "1                 0.50           0.000000  \n",
      "4                 0.50           0.659091  \n",
      "7                 0.25           0.659091  \n",
      "10                0.75           0.659091  \n",
      "...                ...                ...  \n",
      "6309              0.00           0.636364  \n",
      "6311              0.75           0.022727  \n",
      "6312              0.00           0.000000  \n",
      "6313              0.75           0.022727  \n",
      "6315              0.25           0.022727  \n",
      "\n",
      "[3100 rows x 7 columns]\n"
     ]
    }
   ],
   "source": [
    "field = df4['Field']\n",
    "field_arr = field.values.reshape(-1,1)\n",
    "scaler = MinMaxScaler()\n",
    "norm_field = scaler.fit_transform(field_arr)\n",
    "df4['norm_field_female'] = norm_field\n",
    "print(df4)"
   ]
  },
  {
   "cell_type": "code",
   "execution_count": 68,
   "id": "caf574dc",
   "metadata": {
    "scrolled": true
   },
   "outputs": [
    {
     "name": "stdout",
     "output_type": "stream",
     "text": [
      "      grade_point_average  enterning_year  Field  province  norm_avg_male  \\\n",
      "2                   12.69               4     57       289        0.08625   \n",
      "3                   15.35               4     13       238        0.41875   \n",
      "5                   14.93               2     42       218        0.36625   \n",
      "6                   17.44               1     39       218        0.68000   \n",
      "8                   17.57               2     14       116        0.69625   \n",
      "...                   ...             ...    ...       ...            ...   \n",
      "9995                13.13               2     39       194        0.14125   \n",
      "9996                14.23               5     13       238        0.27875   \n",
      "9997                18.29               2     41       159        0.78625   \n",
      "9998                18.15               1     42       277        0.76875   \n",
      "9999                15.62               2     13       277        0.45250   \n",
      "\n",
      "      norm_year_male  norm_field_male  norm_province_male  \n",
      "2               0.75         1.000000            0.907895  \n",
      "3               0.75         0.000000            0.740132  \n",
      "5               0.25         0.659091            0.674342  \n",
      "6               0.00         0.590909            0.674342  \n",
      "8               0.25         0.022727            0.338816  \n",
      "...              ...              ...                 ...  \n",
      "9995            0.25         0.590909            0.595395  \n",
      "9996            1.00         0.000000            0.740132  \n",
      "9997            0.25         0.636364            0.480263  \n",
      "9998            0.00         0.659091            0.868421  \n",
      "9999            0.25         0.000000            0.868421  \n",
      "\n",
      "[6900 rows x 8 columns]\n"
     ]
    }
   ],
   "source": [
    "province = df3['province']\n",
    "province_arr = province.values.reshape(-1,1)\n",
    "scaler = MinMaxScaler()\n",
    "norm_province = scaler.fit_transform(province_arr)\n",
    "df3['norm_province_male'] = norm_province\n",
    "subset_columns = df3.iloc[:, 5:8]\n",
    "\n",
    "# Select 500 rows from the subset\n",
    "subset_rows = subset_columns.head(500)\n",
    "\n",
    "# Save the subset to 'datasetnew3.csv'\n",
    "subset_rows.to_csv('datasetnew3.csv', index=False)\n",
    "\n",
    "print(df3)"
   ]
  },
  {
   "cell_type": "code",
   "execution_count": 66,
   "id": "c5c94d52",
   "metadata": {},
   "outputs": [
    {
     "name": "stdout",
     "output_type": "stream",
     "text": [
      "      grade_point_average  enterning_year  Field  province  norm_avg_female  \\\n",
      "0                   18.40               2     42       187          0.80000   \n",
      "1                   18.04               3     13       247          0.75500   \n",
      "4                   13.13               3     42        66          0.14125   \n",
      "7                   14.91               2     42       107          0.36375   \n",
      "10                  13.58               4     42       247          0.19750   \n",
      "...                   ...             ...    ...       ...              ...   \n",
      "6309                12.74               1     41       223          0.09250   \n",
      "6311                14.77               4     14       116          0.34625   \n",
      "6312                18.22               1     13       238          0.77750   \n",
      "6313                15.00               4     14       307          0.37500   \n",
      "6315                18.80               2     14        94          0.85000   \n",
      "\n",
      "      norm_year_female  norm_field_female  norm_province_female  \n",
      "0                 0.25           0.659091              0.572368  \n",
      "1                 0.50           0.000000              0.769737  \n",
      "4                 0.50           0.659091              0.174342  \n",
      "7                 0.25           0.659091              0.309211  \n",
      "10                0.75           0.659091              0.769737  \n",
      "...                ...                ...                   ...  \n",
      "6309              0.00           0.636364              0.690789  \n",
      "6311              0.75           0.022727              0.338816  \n",
      "6312              0.00           0.000000              0.740132  \n",
      "6313              0.75           0.022727              0.967105  \n",
      "6315              0.25           0.022727              0.266447  \n",
      "\n",
      "[3100 rows x 8 columns]\n"
     ]
    }
   ],
   "source": [
    "province = df4['province']\n",
    "province_arr = province.values.reshape(-1,1)\n",
    "scaler = MinMaxScaler()\n",
    "norm_province = scaler.fit_transform(province_arr)\n",
    "df4['norm_province_female'] = norm_province\n",
    "print(df4)"
   ]
  },
  {
   "cell_type": "code",
   "execution_count": 67,
   "id": "ba068db2",
   "metadata": {},
   "outputs": [
    {
     "name": "stdout",
     "output_type": "stream",
     "text": [
      "davies (male):  1.4106538828465331 eps :  0.07 min_points :  2 clusters 149\n",
      "davies (male):  1.6479151648901087 eps :  0.08 min_points :  2 clusters 74\n",
      "davies (male):  1.6835098759111435 eps :  0.08 min_points :  3 clusters 58\n",
      "davies (male):  2.80043945198283 eps :  0.09 min_points :  2 clusters 38\n",
      "davies (male):  2.2859527018879584 eps :  0.09 min_points :  4 clusters 32\n",
      "davies (male):  2.099538835192772 eps :  0.09 min_points :  5 clusters 46\n",
      "davies (male):  2.217466823844472 eps :  0.1 min_points :  6 clusters 32\n"
     ]
    },
    {
     "ename": "KeyboardInterrupt",
     "evalue": "",
     "output_type": "error",
     "traceback": [
      "\u001B[1;31m---------------------------------------------------------------------------\u001B[0m",
      "\u001B[1;31mKeyboardInterrupt\u001B[0m                         Traceback (most recent call last)",
      "\u001B[1;32m~\\AppData\\Local\\Temp/ipykernel_12520/3303274360.py\u001B[0m in \u001B[0;36m<module>\u001B[1;34m\u001B[0m\n\u001B[0;32m      4\u001B[0m     \u001B[1;32mfor\u001B[0m \u001B[0mj\u001B[0m \u001B[1;32min\u001B[0m \u001B[0mrange\u001B[0m\u001B[1;33m(\u001B[0m\u001B[1;36m8\u001B[0m\u001B[1;33m)\u001B[0m\u001B[1;33m:\u001B[0m\u001B[1;33m\u001B[0m\u001B[1;33m\u001B[0m\u001B[0m\n\u001B[0;32m      5\u001B[0m         \u001B[0mdbscanm\u001B[0m \u001B[1;33m=\u001B[0m \u001B[0mDBSCAN\u001B[0m\u001B[1;33m(\u001B[0m\u001B[0meps\u001B[0m\u001B[1;33m=\u001B[0m\u001B[1;33m(\u001B[0m\u001B[0mi\u001B[0m \u001B[1;33m+\u001B[0m \u001B[1;36m1\u001B[0m\u001B[1;33m)\u001B[0m \u001B[1;33m/\u001B[0m \u001B[1;36m100\u001B[0m\u001B[1;33m,\u001B[0m\u001B[0mmin_samples\u001B[0m\u001B[1;33m=\u001B[0m\u001B[0mj\u001B[0m \u001B[1;33m+\u001B[0m \u001B[1;36m2\u001B[0m\u001B[1;33m)\u001B[0m\u001B[1;33m\u001B[0m\u001B[1;33m\u001B[0m\u001B[0m\n\u001B[1;32m----> 6\u001B[1;33m         \u001B[0mlabelsm\u001B[0m \u001B[1;33m=\u001B[0m \u001B[0mdbscanm\u001B[0m\u001B[1;33m.\u001B[0m\u001B[0mfit_predict\u001B[0m\u001B[1;33m(\u001B[0m\u001B[0mX\u001B[0m\u001B[1;33m)\u001B[0m\u001B[1;33m\u001B[0m\u001B[1;33m\u001B[0m\u001B[0m\n\u001B[0m\u001B[0;32m      7\u001B[0m         \u001B[1;31m#print(np.unique(labels))\u001B[0m\u001B[1;33m\u001B[0m\u001B[1;33m\u001B[0m\u001B[0m\n\u001B[0;32m      8\u001B[0m         \u001B[0mcolors\u001B[0m \u001B[1;33m=\u001B[0m \u001B[0mplt\u001B[0m\u001B[1;33m.\u001B[0m\u001B[0mcm\u001B[0m\u001B[1;33m.\u001B[0m\u001B[0mSpectral\u001B[0m\u001B[1;33m(\u001B[0m\u001B[0mnp\u001B[0m\u001B[1;33m.\u001B[0m\u001B[0mlinspace\u001B[0m\u001B[1;33m(\u001B[0m\u001B[1;36m0\u001B[0m\u001B[1;33m,\u001B[0m \u001B[1;36m1\u001B[0m\u001B[1;33m,\u001B[0m \u001B[0mlen\u001B[0m\u001B[1;33m(\u001B[0m\u001B[0mnp\u001B[0m\u001B[1;33m.\u001B[0m\u001B[0munique\u001B[0m\u001B[1;33m(\u001B[0m\u001B[0mlabelsm\u001B[0m\u001B[1;33m)\u001B[0m\u001B[1;33m)\u001B[0m\u001B[1;33m)\u001B[0m\u001B[1;33m)\u001B[0m\u001B[1;33m\u001B[0m\u001B[1;33m\u001B[0m\u001B[0m\n",
      "\u001B[1;32mC:\\ProgramData\\Anaconda3\\lib\\site-packages\\sklearn\\cluster\\_dbscan.py\u001B[0m in \u001B[0;36mfit_predict\u001B[1;34m(self, X, y, sample_weight)\u001B[0m\n\u001B[0;32m    387\u001B[0m             \u001B[0mCluster\u001B[0m \u001B[0mlabels\u001B[0m\u001B[1;33m.\u001B[0m \u001B[0mNoisy\u001B[0m \u001B[0msamples\u001B[0m \u001B[0mare\u001B[0m \u001B[0mgiven\u001B[0m \u001B[0mthe\u001B[0m \u001B[0mlabel\u001B[0m \u001B[1;33m-\u001B[0m\u001B[1;36m1.\u001B[0m\u001B[1;33m\u001B[0m\u001B[1;33m\u001B[0m\u001B[0m\n\u001B[0;32m    388\u001B[0m         \"\"\"\n\u001B[1;32m--> 389\u001B[1;33m         \u001B[0mself\u001B[0m\u001B[1;33m.\u001B[0m\u001B[0mfit\u001B[0m\u001B[1;33m(\u001B[0m\u001B[0mX\u001B[0m\u001B[1;33m,\u001B[0m \u001B[0msample_weight\u001B[0m\u001B[1;33m=\u001B[0m\u001B[0msample_weight\u001B[0m\u001B[1;33m)\u001B[0m\u001B[1;33m\u001B[0m\u001B[1;33m\u001B[0m\u001B[0m\n\u001B[0m\u001B[0;32m    390\u001B[0m         \u001B[1;32mreturn\u001B[0m \u001B[0mself\u001B[0m\u001B[1;33m.\u001B[0m\u001B[0mlabels_\u001B[0m\u001B[1;33m\u001B[0m\u001B[1;33m\u001B[0m\u001B[0m\n",
      "\u001B[1;32mC:\\ProgramData\\Anaconda3\\lib\\site-packages\\sklearn\\cluster\\_dbscan.py\u001B[0m in \u001B[0;36mfit\u001B[1;34m(self, X, y, sample_weight)\u001B[0m\n\u001B[0;32m    332\u001B[0m         \u001B[0mneighbors_model\u001B[0m\u001B[1;33m.\u001B[0m\u001B[0mfit\u001B[0m\u001B[1;33m(\u001B[0m\u001B[0mX\u001B[0m\u001B[1;33m)\u001B[0m\u001B[1;33m\u001B[0m\u001B[1;33m\u001B[0m\u001B[0m\n\u001B[0;32m    333\u001B[0m         \u001B[1;31m# This has worst case O(n^2) memory complexity\u001B[0m\u001B[1;33m\u001B[0m\u001B[1;33m\u001B[0m\u001B[0m\n\u001B[1;32m--> 334\u001B[1;33m         neighborhoods = neighbors_model.radius_neighbors(X,\n\u001B[0m\u001B[0;32m    335\u001B[0m                                                          return_distance=False)\n\u001B[0;32m    336\u001B[0m \u001B[1;33m\u001B[0m\u001B[0m\n",
      "\u001B[1;32mC:\\ProgramData\\Anaconda3\\lib\\site-packages\\sklearn\\neighbors\\_base.py\u001B[0m in \u001B[0;36mradius_neighbors\u001B[1;34m(self, X, radius, return_distance, sort_results)\u001B[0m\n\u001B[0;32m   1047\u001B[0m                 \u001B[0mparallel_kwargs\u001B[0m \u001B[1;33m=\u001B[0m \u001B[1;33m{\u001B[0m\u001B[1;34m\"prefer\"\u001B[0m\u001B[1;33m:\u001B[0m \u001B[1;34m\"threads\"\u001B[0m\u001B[1;33m}\u001B[0m\u001B[1;33m\u001B[0m\u001B[1;33m\u001B[0m\u001B[0m\n\u001B[0;32m   1048\u001B[0m \u001B[1;33m\u001B[0m\u001B[0m\n\u001B[1;32m-> 1049\u001B[1;33m             chunked_results = Parallel(n_jobs, **parallel_kwargs)(\n\u001B[0m\u001B[0;32m   1050\u001B[0m                 delayed_query(self._tree, X[s], radius, return_distance,\n\u001B[0;32m   1051\u001B[0m                               sort_results=sort_results)\n",
      "\u001B[1;32mC:\\ProgramData\\Anaconda3\\lib\\site-packages\\joblib\\parallel.py\u001B[0m in \u001B[0;36m__call__\u001B[1;34m(self, iterable)\u001B[0m\n\u001B[0;32m   1041\u001B[0m             \u001B[1;31m# remaining jobs.\u001B[0m\u001B[1;33m\u001B[0m\u001B[1;33m\u001B[0m\u001B[0m\n\u001B[0;32m   1042\u001B[0m             \u001B[0mself\u001B[0m\u001B[1;33m.\u001B[0m\u001B[0m_iterating\u001B[0m \u001B[1;33m=\u001B[0m \u001B[1;32mFalse\u001B[0m\u001B[1;33m\u001B[0m\u001B[1;33m\u001B[0m\u001B[0m\n\u001B[1;32m-> 1043\u001B[1;33m             \u001B[1;32mif\u001B[0m \u001B[0mself\u001B[0m\u001B[1;33m.\u001B[0m\u001B[0mdispatch_one_batch\u001B[0m\u001B[1;33m(\u001B[0m\u001B[0miterator\u001B[0m\u001B[1;33m)\u001B[0m\u001B[1;33m:\u001B[0m\u001B[1;33m\u001B[0m\u001B[1;33m\u001B[0m\u001B[0m\n\u001B[0m\u001B[0;32m   1044\u001B[0m                 \u001B[0mself\u001B[0m\u001B[1;33m.\u001B[0m\u001B[0m_iterating\u001B[0m \u001B[1;33m=\u001B[0m \u001B[0mself\u001B[0m\u001B[1;33m.\u001B[0m\u001B[0m_original_iterator\u001B[0m \u001B[1;32mis\u001B[0m \u001B[1;32mnot\u001B[0m \u001B[1;32mNone\u001B[0m\u001B[1;33m\u001B[0m\u001B[1;33m\u001B[0m\u001B[0m\n\u001B[0;32m   1045\u001B[0m \u001B[1;33m\u001B[0m\u001B[0m\n",
      "\u001B[1;32mC:\\ProgramData\\Anaconda3\\lib\\site-packages\\joblib\\parallel.py\u001B[0m in \u001B[0;36mdispatch_one_batch\u001B[1;34m(self, iterator)\u001B[0m\n\u001B[0;32m    859\u001B[0m                 \u001B[1;32mreturn\u001B[0m \u001B[1;32mFalse\u001B[0m\u001B[1;33m\u001B[0m\u001B[1;33m\u001B[0m\u001B[0m\n\u001B[0;32m    860\u001B[0m             \u001B[1;32melse\u001B[0m\u001B[1;33m:\u001B[0m\u001B[1;33m\u001B[0m\u001B[1;33m\u001B[0m\u001B[0m\n\u001B[1;32m--> 861\u001B[1;33m                 \u001B[0mself\u001B[0m\u001B[1;33m.\u001B[0m\u001B[0m_dispatch\u001B[0m\u001B[1;33m(\u001B[0m\u001B[0mtasks\u001B[0m\u001B[1;33m)\u001B[0m\u001B[1;33m\u001B[0m\u001B[1;33m\u001B[0m\u001B[0m\n\u001B[0m\u001B[0;32m    862\u001B[0m                 \u001B[1;32mreturn\u001B[0m \u001B[1;32mTrue\u001B[0m\u001B[1;33m\u001B[0m\u001B[1;33m\u001B[0m\u001B[0m\n\u001B[0;32m    863\u001B[0m \u001B[1;33m\u001B[0m\u001B[0m\n",
      "\u001B[1;32mC:\\ProgramData\\Anaconda3\\lib\\site-packages\\joblib\\parallel.py\u001B[0m in \u001B[0;36m_dispatch\u001B[1;34m(self, batch)\u001B[0m\n\u001B[0;32m    777\u001B[0m         \u001B[1;32mwith\u001B[0m \u001B[0mself\u001B[0m\u001B[1;33m.\u001B[0m\u001B[0m_lock\u001B[0m\u001B[1;33m:\u001B[0m\u001B[1;33m\u001B[0m\u001B[1;33m\u001B[0m\u001B[0m\n\u001B[0;32m    778\u001B[0m             \u001B[0mjob_idx\u001B[0m \u001B[1;33m=\u001B[0m \u001B[0mlen\u001B[0m\u001B[1;33m(\u001B[0m\u001B[0mself\u001B[0m\u001B[1;33m.\u001B[0m\u001B[0m_jobs\u001B[0m\u001B[1;33m)\u001B[0m\u001B[1;33m\u001B[0m\u001B[1;33m\u001B[0m\u001B[0m\n\u001B[1;32m--> 779\u001B[1;33m             \u001B[0mjob\u001B[0m \u001B[1;33m=\u001B[0m \u001B[0mself\u001B[0m\u001B[1;33m.\u001B[0m\u001B[0m_backend\u001B[0m\u001B[1;33m.\u001B[0m\u001B[0mapply_async\u001B[0m\u001B[1;33m(\u001B[0m\u001B[0mbatch\u001B[0m\u001B[1;33m,\u001B[0m \u001B[0mcallback\u001B[0m\u001B[1;33m=\u001B[0m\u001B[0mcb\u001B[0m\u001B[1;33m)\u001B[0m\u001B[1;33m\u001B[0m\u001B[1;33m\u001B[0m\u001B[0m\n\u001B[0m\u001B[0;32m    780\u001B[0m             \u001B[1;31m# A job can complete so quickly than its callback is\u001B[0m\u001B[1;33m\u001B[0m\u001B[1;33m\u001B[0m\u001B[0m\n\u001B[0;32m    781\u001B[0m             \u001B[1;31m# called before we get here, causing self._jobs to\u001B[0m\u001B[1;33m\u001B[0m\u001B[1;33m\u001B[0m\u001B[0m\n",
      "\u001B[1;32mC:\\ProgramData\\Anaconda3\\lib\\site-packages\\joblib\\_parallel_backends.py\u001B[0m in \u001B[0;36mapply_async\u001B[1;34m(self, func, callback)\u001B[0m\n\u001B[0;32m    206\u001B[0m     \u001B[1;32mdef\u001B[0m \u001B[0mapply_async\u001B[0m\u001B[1;33m(\u001B[0m\u001B[0mself\u001B[0m\u001B[1;33m,\u001B[0m \u001B[0mfunc\u001B[0m\u001B[1;33m,\u001B[0m \u001B[0mcallback\u001B[0m\u001B[1;33m=\u001B[0m\u001B[1;32mNone\u001B[0m\u001B[1;33m)\u001B[0m\u001B[1;33m:\u001B[0m\u001B[1;33m\u001B[0m\u001B[1;33m\u001B[0m\u001B[0m\n\u001B[0;32m    207\u001B[0m         \u001B[1;34m\"\"\"Schedule a func to be run\"\"\"\u001B[0m\u001B[1;33m\u001B[0m\u001B[1;33m\u001B[0m\u001B[0m\n\u001B[1;32m--> 208\u001B[1;33m         \u001B[0mresult\u001B[0m \u001B[1;33m=\u001B[0m \u001B[0mImmediateResult\u001B[0m\u001B[1;33m(\u001B[0m\u001B[0mfunc\u001B[0m\u001B[1;33m)\u001B[0m\u001B[1;33m\u001B[0m\u001B[1;33m\u001B[0m\u001B[0m\n\u001B[0m\u001B[0;32m    209\u001B[0m         \u001B[1;32mif\u001B[0m \u001B[0mcallback\u001B[0m\u001B[1;33m:\u001B[0m\u001B[1;33m\u001B[0m\u001B[1;33m\u001B[0m\u001B[0m\n\u001B[0;32m    210\u001B[0m             \u001B[0mcallback\u001B[0m\u001B[1;33m(\u001B[0m\u001B[0mresult\u001B[0m\u001B[1;33m)\u001B[0m\u001B[1;33m\u001B[0m\u001B[1;33m\u001B[0m\u001B[0m\n",
      "\u001B[1;32mC:\\ProgramData\\Anaconda3\\lib\\site-packages\\joblib\\_parallel_backends.py\u001B[0m in \u001B[0;36m__init__\u001B[1;34m(self, batch)\u001B[0m\n\u001B[0;32m    570\u001B[0m         \u001B[1;31m# Don't delay the application, to avoid keeping the input\u001B[0m\u001B[1;33m\u001B[0m\u001B[1;33m\u001B[0m\u001B[0m\n\u001B[0;32m    571\u001B[0m         \u001B[1;31m# arguments in memory\u001B[0m\u001B[1;33m\u001B[0m\u001B[1;33m\u001B[0m\u001B[0m\n\u001B[1;32m--> 572\u001B[1;33m         \u001B[0mself\u001B[0m\u001B[1;33m.\u001B[0m\u001B[0mresults\u001B[0m \u001B[1;33m=\u001B[0m \u001B[0mbatch\u001B[0m\u001B[1;33m(\u001B[0m\u001B[1;33m)\u001B[0m\u001B[1;33m\u001B[0m\u001B[1;33m\u001B[0m\u001B[0m\n\u001B[0m\u001B[0;32m    573\u001B[0m \u001B[1;33m\u001B[0m\u001B[0m\n\u001B[0;32m    574\u001B[0m     \u001B[1;32mdef\u001B[0m \u001B[0mget\u001B[0m\u001B[1;33m(\u001B[0m\u001B[0mself\u001B[0m\u001B[1;33m)\u001B[0m\u001B[1;33m:\u001B[0m\u001B[1;33m\u001B[0m\u001B[1;33m\u001B[0m\u001B[0m\n",
      "\u001B[1;32mC:\\ProgramData\\Anaconda3\\lib\\site-packages\\joblib\\parallel.py\u001B[0m in \u001B[0;36m__call__\u001B[1;34m(self)\u001B[0m\n\u001B[0;32m    260\u001B[0m         \u001B[1;31m# change the default number of processes to -1\u001B[0m\u001B[1;33m\u001B[0m\u001B[1;33m\u001B[0m\u001B[0m\n\u001B[0;32m    261\u001B[0m         \u001B[1;32mwith\u001B[0m \u001B[0mparallel_backend\u001B[0m\u001B[1;33m(\u001B[0m\u001B[0mself\u001B[0m\u001B[1;33m.\u001B[0m\u001B[0m_backend\u001B[0m\u001B[1;33m,\u001B[0m \u001B[0mn_jobs\u001B[0m\u001B[1;33m=\u001B[0m\u001B[0mself\u001B[0m\u001B[1;33m.\u001B[0m\u001B[0m_n_jobs\u001B[0m\u001B[1;33m)\u001B[0m\u001B[1;33m:\u001B[0m\u001B[1;33m\u001B[0m\u001B[1;33m\u001B[0m\u001B[0m\n\u001B[1;32m--> 262\u001B[1;33m             return [func(*args, **kwargs)\n\u001B[0m\u001B[0;32m    263\u001B[0m                     for func, args, kwargs in self.items]\n\u001B[0;32m    264\u001B[0m \u001B[1;33m\u001B[0m\u001B[0m\n",
      "\u001B[1;32mC:\\ProgramData\\Anaconda3\\lib\\site-packages\\joblib\\parallel.py\u001B[0m in \u001B[0;36m<listcomp>\u001B[1;34m(.0)\u001B[0m\n\u001B[0;32m    260\u001B[0m         \u001B[1;31m# change the default number of processes to -1\u001B[0m\u001B[1;33m\u001B[0m\u001B[1;33m\u001B[0m\u001B[0m\n\u001B[0;32m    261\u001B[0m         \u001B[1;32mwith\u001B[0m \u001B[0mparallel_backend\u001B[0m\u001B[1;33m(\u001B[0m\u001B[0mself\u001B[0m\u001B[1;33m.\u001B[0m\u001B[0m_backend\u001B[0m\u001B[1;33m,\u001B[0m \u001B[0mn_jobs\u001B[0m\u001B[1;33m=\u001B[0m\u001B[0mself\u001B[0m\u001B[1;33m.\u001B[0m\u001B[0m_n_jobs\u001B[0m\u001B[1;33m)\u001B[0m\u001B[1;33m:\u001B[0m\u001B[1;33m\u001B[0m\u001B[1;33m\u001B[0m\u001B[0m\n\u001B[1;32m--> 262\u001B[1;33m             return [func(*args, **kwargs)\n\u001B[0m\u001B[0;32m    263\u001B[0m                     for func, args, kwargs in self.items]\n\u001B[0;32m    264\u001B[0m \u001B[1;33m\u001B[0m\u001B[0m\n",
      "\u001B[1;32mC:\\ProgramData\\Anaconda3\\lib\\site-packages\\sklearn\\utils\\fixes.py\u001B[0m in \u001B[0;36m__call__\u001B[1;34m(self, *args, **kwargs)\u001B[0m\n\u001B[0;32m    220\u001B[0m     \u001B[1;32mdef\u001B[0m \u001B[0m__call__\u001B[0m\u001B[1;33m(\u001B[0m\u001B[0mself\u001B[0m\u001B[1;33m,\u001B[0m \u001B[1;33m*\u001B[0m\u001B[0margs\u001B[0m\u001B[1;33m,\u001B[0m \u001B[1;33m**\u001B[0m\u001B[0mkwargs\u001B[0m\u001B[1;33m)\u001B[0m\u001B[1;33m:\u001B[0m\u001B[1;33m\u001B[0m\u001B[1;33m\u001B[0m\u001B[0m\n\u001B[0;32m    221\u001B[0m         \u001B[1;32mwith\u001B[0m \u001B[0mconfig_context\u001B[0m\u001B[1;33m(\u001B[0m\u001B[1;33m**\u001B[0m\u001B[0mself\u001B[0m\u001B[1;33m.\u001B[0m\u001B[0mconfig\u001B[0m\u001B[1;33m)\u001B[0m\u001B[1;33m:\u001B[0m\u001B[1;33m\u001B[0m\u001B[1;33m\u001B[0m\u001B[0m\n\u001B[1;32m--> 222\u001B[1;33m             \u001B[1;32mreturn\u001B[0m \u001B[0mself\u001B[0m\u001B[1;33m.\u001B[0m\u001B[0mfunction\u001B[0m\u001B[1;33m(\u001B[0m\u001B[1;33m*\u001B[0m\u001B[0margs\u001B[0m\u001B[1;33m,\u001B[0m \u001B[1;33m**\u001B[0m\u001B[0mkwargs\u001B[0m\u001B[1;33m)\u001B[0m\u001B[1;33m\u001B[0m\u001B[1;33m\u001B[0m\u001B[0m\n\u001B[0m",
      "\u001B[1;32mC:\\ProgramData\\Anaconda3\\lib\\site-packages\\sklearn\\neighbors\\_base.py\u001B[0m in \u001B[0;36m_tree_query_radius_parallel_helper\u001B[1;34m(tree, *args, **kwargs)\u001B[0m\n\u001B[0;32m    853\u001B[0m     \u001B[0mcloudpickle\u001B[0m \u001B[0munder\u001B[0m \u001B[0mPyPy\u001B[0m\u001B[1;33m.\u001B[0m\u001B[1;33m\u001B[0m\u001B[1;33m\u001B[0m\u001B[0m\n\u001B[0;32m    854\u001B[0m     \"\"\"\n\u001B[1;32m--> 855\u001B[1;33m     \u001B[1;32mreturn\u001B[0m \u001B[0mtree\u001B[0m\u001B[1;33m.\u001B[0m\u001B[0mquery_radius\u001B[0m\u001B[1;33m(\u001B[0m\u001B[1;33m*\u001B[0m\u001B[0margs\u001B[0m\u001B[1;33m,\u001B[0m \u001B[1;33m**\u001B[0m\u001B[0mkwargs\u001B[0m\u001B[1;33m)\u001B[0m\u001B[1;33m\u001B[0m\u001B[1;33m\u001B[0m\u001B[0m\n\u001B[0m\u001B[0;32m    856\u001B[0m \u001B[1;33m\u001B[0m\u001B[0m\n\u001B[0;32m    857\u001B[0m \u001B[1;33m\u001B[0m\u001B[0m\n",
      "\u001B[1;31mKeyboardInterrupt\u001B[0m: "
     ]
    }
   ],
   "source": [
    "# X = np.reshape(df3.iloc[:, 4:8],(6900,4))\n",
    "# X = np.array(X)\n",
    "# for i in range(100):\n",
    "#     for j in range(8):\n",
    "        # dbscanm = DBSCAN(eps=(i + 1) / 100,min_samples=j + 2)\n",
    "        # labelsm = dbscanm.fit_predict(X)\n",
    "        # #print(np.unique(labels))\n",
    "        # colors = plt.cm.Spectral(np.linspace(0, 1, len(np.unique(labelsm))))\n",
    "        # n_clusters_ = len(set(labelsm)) - (1 if -1 in labelsm else 0)\n",
    "        # n_noise_ = list(labelsm).count(-1)\n",
    "        # if(n_clusters_ == 6900 or n_noise_ == 6900):\n",
    "        #     continue\n",
    "        #\n",
    "        # core_sample_mask = np.zeros_like(dbscanm.labels_, dtype=bool)\n",
    "        # core_sample_mask[dbscanm.core_sample_indices_] = True\n",
    "        # #print(core_sample_mask)\n",
    "        # #print('Estimated number of clusters: %d' % n_clusters_)\n",
    "        # #print('Estimated number of noise points: %d' % n_noise_)\n",
    "        # if n_clusters_>30 and n_noise_ < 100:\n",
    "        #     print(\"davies (male): \",davies_bouldin_score(df3.iloc[:, 4:8], labelsm), \"eps : \", (i + 1) / 100, \"min_points : \",j + 2, \"clusters\",n_clusters_)"
   ]
  },
  {
   "cell_type": "code",
   "execution_count": null,
   "id": "5b2fa9e3",
   "metadata": {},
   "outputs": [],
   "source": [
    "# Y = np.reshape(df4.iloc[:, 4:8],(3100,4))\n",
    "# Y = np.array(Y)\n",
    "# for i in range(100):\n",
    "#     for j in range(8):\n",
    "#         dbscanf = DBSCAN(eps=(i + 1) / 100,min_samples=j + 2)\n",
    "#         labelsf = dbscanf.fit_predict(Y)\n",
    "#         #print(np.unique(labels))\n",
    "#         colors = plt.cm.Spectral(np.linspace(0, 1, len(np.unique(labelsf))))\n",
    "#         n_clusters_ = len(set(labelsf)) - (1 if -1 in labelsf else 0)\n",
    "#         n_noise_ = list(labelsf).count(-1)\n",
    "#         if(n_clusters_ == 3100 or n_noise_ == 3100):\n",
    "#             continue\n",
    "#\n",
    "#         core_sample_mask = np.zeros_like(dbscanf.labels_, dtype=bool)\n",
    "#         core_sample_mask[dbscanf.core_sample_indices_] = True\n",
    "#         #print(core_sample_mask)\n",
    "#         #print('Estimated number of clusters: %d' % n_clusters_)\n",
    "#         #print('Estimated number of noise points: %d' % n_noise_)\n",
    "#         if n_clusters_>30 and n_noise_ < 100:\n",
    "#             print(\"davies (female): \",davies_bouldin_score(df4.iloc[:, 4:8], labelsf), \"eps : \", (i + 1) / 100, \"min_points : \",j + 2, \"clusters : \",n_clusters_,\"noise : \",n_noise_)"
   ]
  },
  {
   "cell_type": "code",
   "execution_count": null,
   "id": "6d69ca94",
   "metadata": {},
   "outputs": [],
   "source": [
    "print(df3)"
   ]
  },
  {
   "cell_type": "code",
   "execution_count": null,
   "id": "00c44a7b",
   "metadata": {},
   "outputs": [],
   "source": []
  },
  {
   "cell_type": "code",
   "execution_count": null,
   "outputs": [],
   "source": [],
   "metadata": {
    "collapsed": false,
    "pycharm": {
     "name": "#%%\n"
    }
   }
  }
 ],
 "metadata": {
  "kernelspec": {
   "display_name": "Python 3 (ipykernel)",
   "language": "python",
   "name": "python3"
  },
  "language_info": {
   "codemirror_mode": {
    "name": "ipython",
    "version": 3
   },
   "file_extension": ".py",
   "mimetype": "text/x-python",
   "name": "python",
   "nbconvert_exporter": "python",
   "pygments_lexer": "ipython3",
   "version": "3.10.9"
  }
 },
 "nbformat": 4,
 "nbformat_minor": 5
}